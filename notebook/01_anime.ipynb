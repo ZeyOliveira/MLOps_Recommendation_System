{
 "cells": [
  {
   "cell_type": "code",
   "execution_count": null,
   "id": "b0cfde68",
   "metadata": {},
   "outputs": [],
   "source": [
    "# development libraries\n",
    "import pandas as pd\n",
    "import numpy as np\n",
    "import matplotlib.pyplot as plt\n",
    "import seaborn as sns\n",
    "\n",
    "from sklearn.model_selection import train_test_split\n",
    "from sklearn.preprocessing import LabelEncoder\n",
    "import tensorflow as tf\n",
    "from tensorflow.keras.models import Model\n",
    "from tensorflow.keras.layers import (\n",
    "    Activation, BatchNormalization, Input, \n",
    "    Embedding, Dot, Dense, Flatten\n",
    ")\n",
    "from tensorflow.keras.callbacks import ModelCheckpoint, LearningRateScheduler, EarlyStopping\n",
    "from wordcloud import WordCloud\n",
    "\n",
    "import warnings\n",
    "warnings.simplefilter(\"ignore\")\n",
    "\n",
    "# Visual Settings\n",
    "%matplotlib inline\n",
    "pd.set_option(\"display.max_columns\", None)\n",
    "pd.set_option(\"display.max_rows\", 100)\n",
    "pd.set_option(\"display.float_format\", lambda x:f\"{x:,.4f}\")\n",
    "\n",
    "# Graphic style\n",
    "plt.style.use(\"seaborn-v0_8\")\n",
    "sns.set_style(\"whitegrid\")\n",
    "sns.set_palette(\"Set1\")"
   ]
  },
  {
   "cell_type": "markdown",
   "id": "3310258a",
   "metadata": {},
   "source": [
    "### Data loading and processing"
   ]
  },
  {
   "cell_type": "markdown",
   "id": "1ddd5a4f",
   "metadata": {},
   "source": [
    "- For the purposes of this notebook and project, we will not use these respective columns from the **anime.csv** dataset:  \n",
    "*watching_status*,*watched_episodes*"
   ]
  },
  {
   "cell_type": "code",
   "execution_count": 2,
   "id": "602898bd",
   "metadata": {},
   "outputs": [
    {
     "data": {
      "text/html": [
       "<div>\n",
       "<style scoped>\n",
       "    .dataframe tbody tr th:only-of-type {\n",
       "        vertical-align: middle;\n",
       "    }\n",
       "\n",
       "    .dataframe tbody tr th {\n",
       "        vertical-align: top;\n",
       "    }\n",
       "\n",
       "    .dataframe thead th {\n",
       "        text-align: right;\n",
       "    }\n",
       "</style>\n",
       "<table border=\"1\" class=\"dataframe\">\n",
       "  <thead>\n",
       "    <tr style=\"text-align: right;\">\n",
       "      <th></th>\n",
       "      <th>user_id</th>\n",
       "      <th>anime_id</th>\n",
       "      <th>rating</th>\n",
       "    </tr>\n",
       "  </thead>\n",
       "  <tbody>\n",
       "    <tr>\n",
       "      <th>0</th>\n",
       "      <td>0</td>\n",
       "      <td>67</td>\n",
       "      <td>9</td>\n",
       "    </tr>\n",
       "    <tr>\n",
       "      <th>1</th>\n",
       "      <td>0</td>\n",
       "      <td>6702</td>\n",
       "      <td>7</td>\n",
       "    </tr>\n",
       "    <tr>\n",
       "      <th>2</th>\n",
       "      <td>0</td>\n",
       "      <td>242</td>\n",
       "      <td>10</td>\n",
       "    </tr>\n",
       "    <tr>\n",
       "      <th>3</th>\n",
       "      <td>0</td>\n",
       "      <td>4898</td>\n",
       "      <td>0</td>\n",
       "    </tr>\n",
       "    <tr>\n",
       "      <th>4</th>\n",
       "      <td>0</td>\n",
       "      <td>21</td>\n",
       "      <td>10</td>\n",
       "    </tr>\n",
       "  </tbody>\n",
       "</table>\n",
       "</div>"
      ],
      "text/plain": [
       "   user_id  anime_id  rating\n",
       "0        0        67       9\n",
       "1        0      6702       7\n",
       "2        0       242      10\n",
       "3        0      4898       0\n",
       "4        0        21      10"
      ]
     },
     "execution_count": 2,
     "metadata": {},
     "output_type": "execute_result"
    }
   ],
   "source": [
    "import os\n",
    "DATA_PATH = os.path.join('..', 'artifacts', 'raw')\n",
    "\n",
    "data_rating = pd.read_csv(\n",
    "    DATA_PATH+\"/animelist.csv\", low_memory=True, usecols=['user_id', 'anime_id', 'rating']\n",
    ")\n",
    "\n",
    "data_rating.head()"
   ]
  },
  {
   "cell_type": "code",
   "execution_count": 3,
   "id": "284b5d10",
   "metadata": {},
   "outputs": [
    {
     "data": {
      "text/plain": [
       "(5000000, 3)"
      ]
     },
     "execution_count": 3,
     "metadata": {},
     "output_type": "execute_result"
    }
   ],
   "source": [
    "data_rating.shape"
   ]
  },
  {
   "cell_type": "markdown",
   "id": "ca251b86",
   "metadata": {},
   "source": [
    "- For performance and computational economy reasons, we will only use 5 million rows from this dataset, which originally has 70 million records. For our context, this is not necessary, considering that it is a portfolio project. It should be noted that in a real scenario, it would be more appropriate to use everything we have available."
   ]
  },
  {
   "cell_type": "code",
   "execution_count": 4,
   "id": "957489be",
   "metadata": {},
   "outputs": [
    {
     "data": {
      "text/plain": [
       "user_id     0\n",
       "anime_id    0\n",
       "rating      0\n",
       "dtype: int64"
      ]
     },
     "execution_count": 4,
     "metadata": {},
     "output_type": "execute_result"
    }
   ],
   "source": [
    "# checking for null values\n",
    "data_rating.isnull().sum()"
   ]
  },
  {
   "cell_type": "code",
   "execution_count": 5,
   "id": "e6810595",
   "metadata": {},
   "outputs": [
    {
     "data": {
      "text/plain": [
       "np.int64(0)"
      ]
     },
     "execution_count": 5,
     "metadata": {},
     "output_type": "execute_result"
    }
   ],
   "source": [
    "# checking for duplicate values\n",
    "data_rating.duplicated().sum()"
   ]
  },
  {
   "cell_type": "code",
   "execution_count": 6,
   "id": "a01dd759",
   "metadata": {},
   "outputs": [
    {
     "name": "stdout",
     "output_type": "stream",
     "text": [
      "<class 'pandas.core.frame.DataFrame'>\n",
      "RangeIndex: 5000000 entries, 0 to 4999999\n",
      "Data columns (total 3 columns):\n",
      " #   Column    Dtype\n",
      "---  ------    -----\n",
      " 0   user_id   int64\n",
      " 1   anime_id  int64\n",
      " 2   rating    int64\n",
      "dtypes: int64(3)\n",
      "memory usage: 114.4 MB\n"
     ]
    }
   ],
   "source": [
    "data_rating.info()"
   ]
  },
  {
   "cell_type": "code",
   "execution_count": 7,
   "id": "81230d42",
   "metadata": {},
   "outputs": [
    {
     "data": {
      "text/html": [
       "<div>\n",
       "<style scoped>\n",
       "    .dataframe tbody tr th:only-of-type {\n",
       "        vertical-align: middle;\n",
       "    }\n",
       "\n",
       "    .dataframe tbody tr th {\n",
       "        vertical-align: top;\n",
       "    }\n",
       "\n",
       "    .dataframe thead th {\n",
       "        text-align: right;\n",
       "    }\n",
       "</style>\n",
       "<table border=\"1\" class=\"dataframe\">\n",
       "  <thead>\n",
       "    <tr style=\"text-align: right;\">\n",
       "      <th></th>\n",
       "      <th>user_id</th>\n",
       "      <th>anime_id</th>\n",
       "      <th>rating</th>\n",
       "    </tr>\n",
       "  </thead>\n",
       "  <tbody>\n",
       "    <tr>\n",
       "      <th>count</th>\n",
       "      <td>5,000,000.0000</td>\n",
       "      <td>5,000,000.0000</td>\n",
       "      <td>5,000,000.0000</td>\n",
       "    </tr>\n",
       "    <tr>\n",
       "      <th>mean</th>\n",
       "      <td>8,339.3047</td>\n",
       "      <td>16,573.6887</td>\n",
       "      <td>4.3069</td>\n",
       "    </tr>\n",
       "    <tr>\n",
       "      <th>std</th>\n",
       "      <td>4,742.7587</td>\n",
       "      <td>13,795.0401</td>\n",
       "      <td>3.9070</td>\n",
       "    </tr>\n",
       "    <tr>\n",
       "      <th>min</th>\n",
       "      <td>0.0000</td>\n",
       "      <td>1.0000</td>\n",
       "      <td>0.0000</td>\n",
       "    </tr>\n",
       "    <tr>\n",
       "      <th>25%</th>\n",
       "      <td>4,291.0000</td>\n",
       "      <td>3,297.0000</td>\n",
       "      <td>0.0000</td>\n",
       "    </tr>\n",
       "    <tr>\n",
       "      <th>50%</th>\n",
       "      <td>8,378.0000</td>\n",
       "      <td>12,549.0000</td>\n",
       "      <td>6.0000</td>\n",
       "    </tr>\n",
       "    <tr>\n",
       "      <th>75%</th>\n",
       "      <td>12,421.0000</td>\n",
       "      <td>30,911.0000</td>\n",
       "      <td>8.0000</td>\n",
       "    </tr>\n",
       "    <tr>\n",
       "      <th>max</th>\n",
       "      <td>16,508.0000</td>\n",
       "      <td>48,491.0000</td>\n",
       "      <td>10.0000</td>\n",
       "    </tr>\n",
       "  </tbody>\n",
       "</table>\n",
       "</div>"
      ],
      "text/plain": [
       "             user_id       anime_id         rating\n",
       "count 5,000,000.0000 5,000,000.0000 5,000,000.0000\n",
       "mean      8,339.3047    16,573.6887         4.3069\n",
       "std       4,742.7587    13,795.0401         3.9070\n",
       "min           0.0000         1.0000         0.0000\n",
       "25%       4,291.0000     3,297.0000         0.0000\n",
       "50%       8,378.0000    12,549.0000         6.0000\n",
       "75%      12,421.0000    30,911.0000         8.0000\n",
       "max      16,508.0000    48,491.0000        10.0000"
      ]
     },
     "execution_count": 7,
     "metadata": {},
     "output_type": "execute_result"
    }
   ],
   "source": [
    "data_rating.describe()"
   ]
  },
  {
   "cell_type": "markdown",
   "id": "19e414e9",
   "metadata": {},
   "source": [
    "- The **user** and **anime** columns are just identifiers; it makes no sense to perform descriptive statistical analysis on them. What interests us most is the evaluation(rating) column."
   ]
  },
  {
   "cell_type": "markdown",
   "id": "c554c369",
   "metadata": {},
   "source": [
    "- Based on the description of the quartiles, we can say and summarize that there is a set of low scores between Quartile 1 (Q1) and Quartile 2 (median). Good to excellent scores range from the maximum limit to the maximum value."
   ]
  },
  {
   "cell_type": "code",
   "execution_count": 8,
   "id": "ecfe9f60",
   "metadata": {},
   "outputs": [
    {
     "data": {
      "text/plain": [
       "user_id\n",
       "11100    14429\n",
       "10255     8403\n",
       "4773      5735\n",
       "6852      5406\n",
       "16057     5080\n",
       "10409     4677\n",
       "15609     4670\n",
       "10665     4598\n",
       "6536      4597\n",
       "4132      4340\n",
       "Name: count, dtype: int64"
      ]
     },
     "execution_count": 8,
     "metadata": {},
     "output_type": "execute_result"
    }
   ],
   "source": [
    "# The 10 most active users.\n",
    "data_rating.user_id.value_counts().head(10)"
   ]
  },
  {
   "cell_type": "code",
   "execution_count": 9,
   "id": "a10c6c01",
   "metadata": {},
   "outputs": [
    {
     "data": {
      "text/plain": [
       "anime_id\n",
       "1535     11149\n",
       "16498    10132\n",
       "11757     9755\n",
       "5114      9447\n",
       "4224      9096\n",
       "1575      9050\n",
       "9253      8998\n",
       "6547      8961\n",
       "20        8352\n",
       "30276     8281\n",
       "Name: count, dtype: int64"
      ]
     },
     "execution_count": 9,
     "metadata": {},
     "output_type": "execute_result"
    }
   ],
   "source": [
    "# The 10 most viewed anime.\n",
    "data_rating.anime_id.value_counts().head(10)"
   ]
  },
  {
   "cell_type": "markdown",
   "id": "54212e36",
   "metadata": {},
   "source": [
    "The apparent relationship between the **user_id** and **anime_id** columns is many-to-many, meaning that a user may have watched one or many anime, and an anime may have been watched by one or many users.\n",
    "each row in this dataset is an individual assessment"
   ]
  },
  {
   "cell_type": "markdown",
   "id": "9a45bf6a",
   "metadata": {},
   "source": [
    "From here, we will establish a baseline and consider experienced users to be those who have rated more than 400 anime."
   ]
  },
  {
   "cell_type": "code",
   "execution_count": 10,
   "id": "5866bf24",
   "metadata": {},
   "outputs": [
    {
     "data": {
      "text/plain": [
       "(3246641, 3)"
      ]
     },
     "execution_count": 10,
     "metadata": {},
     "output_type": "execute_result"
    }
   ],
   "source": [
    "# filtering users with more ratings (experienced users)\n",
    "ratings = data_rating['user_id'].value_counts()\n",
    "\n",
    "df_rating = data_rating[data_rating['user_id'].isin(ratings[ratings >= 400].index)].copy()\n",
    "df_rating.shape"
   ]
  },
  {
   "cell_type": "code",
   "execution_count": 11,
   "id": "3683aa37",
   "metadata": {},
   "outputs": [
    {
     "name": "stdout",
     "output_type": "stream",
     "text": [
      "0\n",
      "10\n",
      "4.122732695114736\n"
     ]
    }
   ],
   "source": [
    "# obtaining the minimum, maximum, and average evaluation\n",
    "min_rating = df_rating['rating'].min()\n",
    "print(min_rating)\n",
    "\n",
    "max_rating = df_rating['rating'].max()\n",
    "print(max_rating)\n",
    "\n",
    "avg_rating = df_rating['rating'].mean()\n",
    "print(avg_rating)"
   ]
  },
  {
   "cell_type": "markdown",
   "id": "f9a10e76",
   "metadata": {},
   "source": [
    "**Min-Max Scaling Formula:**\n",
    "\n",
    "$X_{normalized} = \\frac{X - X_{min}}{X_{max} - X_{min}}$\n",
    "\n",
    "Where:\n",
    "*   $X$ is the original value of the feature.\n",
    "*   $X_{min}$ is the minimum value of the feature in the dataset.\n",
    "*   $X_{max}$ is the maximum value of the feature in the dataset.\n",
    "\n",
    "**Visual Example:**\n",
    "\n",
    "We have scores from 1 to 10:\n",
    "*   Score 1 (min) would become 0.\n",
    "*   Score 10 (max) would become 1.\n",
    "* Grade 5 would become $(5 - 1) / (10 - 1) = 4 / 9 \\approx 0.44$.\n",
    "\n",
    "---\n",
    "\n",
    "### Why is Normalization Important?\n",
    "\n",
    "Normalizing data is crucial for several reasons, especially in Machine Learning projects:\n",
    "\n",
    "1.  **Improves Algorithm Performance:** Many ML algorithms calculate distances between data points (such as K-Nearest Neighbors, Support Vector Machines) or rely on gradients (such as Neural Networks, Logistic Regression with Gradient Descent). If the features are on very different scales (e.g., ‘rating’ from 1-10 and ‘number_of_views’ from 1-1,000,000), the feature with the larger scale can dominate the distances or gradient steps, leading to suboptimal model performance.\n",
    "\n",
    "2.  **Accelerates Convergence:** For gradient-based optimization algorithms, normalization can lead to faster convergence. Without it, the algorithm may unnecessarily “oscillate” around the minimum, as the gradients for larger-scale features will be much larger."
   ]
  },
  {
   "cell_type": "code",
   "execution_count": 12,
   "id": "5ce6bfa1",
   "metadata": {},
   "outputs": [],
   "source": [
    "# Performing Min-Max scaling\n",
    "df_rating['rating'] = df_rating['rating'].apply(lambda x: (x - min_rating) / (max_rating - min_rating)).values.astype(np.float64)"
   ]
  },
  {
   "cell_type": "code",
   "execution_count": 13,
   "id": "0bfeab1e",
   "metadata": {},
   "outputs": [
    {
     "name": "stdout",
     "output_type": "stream",
     "text": [
      "0.0\n",
      "1.0\n",
      "0.4122732695114736\n"
     ]
    }
   ],
   "source": [
    "# measures transformed by Min-Max\n",
    "min_rating = df_rating['rating'].min()\n",
    "print(min_rating)\n",
    "\n",
    "max_rating = df_rating['rating'].max()\n",
    "print(max_rating)\n",
    "\n",
    "avg_rating = df_rating['rating'].mean()\n",
    "print(avg_rating)"
   ]
  },
  {
   "cell_type": "code",
   "execution_count": 14,
   "id": "8edb0752",
   "metadata": {},
   "outputs": [
    {
     "data": {
      "text/plain": [
       "user_id     0\n",
       "anime_id    0\n",
       "rating      0\n",
       "dtype: int64"
      ]
     },
     "execution_count": 14,
     "metadata": {},
     "output_type": "execute_result"
    }
   ],
   "source": [
    "df_rating.isnull().sum()"
   ]
  },
  {
   "cell_type": "code",
   "execution_count": 15,
   "id": "b1d6d927",
   "metadata": {},
   "outputs": [
    {
     "data": {
      "text/plain": [
       "np.int64(0)"
      ]
     },
     "execution_count": 15,
     "metadata": {},
     "output_type": "execute_result"
    }
   ],
   "source": [
    "df_rating.duplicated().sum()"
   ]
  },
  {
   "cell_type": "code",
   "execution_count": 16,
   "id": "a8cfd86c",
   "metadata": {},
   "outputs": [],
   "source": [
    "# encoding and decoding users\n",
    "user_ids = df_rating['user_id'].unique().tolist()\n",
    "\n",
    "# Encoded values\n",
    "user2user_encoded = {x: i for i, x in enumerate(user_ids)}\n",
    "\n",
    "# Decoded values\n",
    "user2user_decoded = {i: x for i, x in enumerate(user_ids)}\n",
    "\n",
    "num_users = len(user2user_encoded)"
   ]
  },
  {
   "cell_type": "code",
   "execution_count": 17,
   "id": "95ac805f",
   "metadata": {},
   "outputs": [
    {
     "data": {
      "text/html": [
       "<div>\n",
       "<style scoped>\n",
       "    .dataframe tbody tr th:only-of-type {\n",
       "        vertical-align: middle;\n",
       "    }\n",
       "\n",
       "    .dataframe tbody tr th {\n",
       "        vertical-align: top;\n",
       "    }\n",
       "\n",
       "    .dataframe thead th {\n",
       "        text-align: right;\n",
       "    }\n",
       "</style>\n",
       "<table border=\"1\" class=\"dataframe\">\n",
       "  <thead>\n",
       "    <tr style=\"text-align: right;\">\n",
       "      <th></th>\n",
       "      <th>user_id</th>\n",
       "      <th>anime_id</th>\n",
       "      <th>rating</th>\n",
       "      <th>user</th>\n",
       "    </tr>\n",
       "  </thead>\n",
       "  <tbody>\n",
       "    <tr>\n",
       "      <th>213</th>\n",
       "      <td>2</td>\n",
       "      <td>24833</td>\n",
       "      <td>0.0000</td>\n",
       "      <td>0</td>\n",
       "    </tr>\n",
       "    <tr>\n",
       "      <th>214</th>\n",
       "      <td>2</td>\n",
       "      <td>235</td>\n",
       "      <td>1.0000</td>\n",
       "      <td>0</td>\n",
       "    </tr>\n",
       "    <tr>\n",
       "      <th>215</th>\n",
       "      <td>2</td>\n",
       "      <td>36721</td>\n",
       "      <td>0.0000</td>\n",
       "      <td>0</td>\n",
       "    </tr>\n",
       "    <tr>\n",
       "      <th>216</th>\n",
       "      <td>2</td>\n",
       "      <td>40956</td>\n",
       "      <td>0.0000</td>\n",
       "      <td>0</td>\n",
       "    </tr>\n",
       "    <tr>\n",
       "      <th>217</th>\n",
       "      <td>2</td>\n",
       "      <td>31933</td>\n",
       "      <td>0.0000</td>\n",
       "      <td>0</td>\n",
       "    </tr>\n",
       "  </tbody>\n",
       "</table>\n",
       "</div>"
      ],
      "text/plain": [
       "     user_id  anime_id  rating  user\n",
       "213        2     24833  0.0000     0\n",
       "214        2       235  1.0000     0\n",
       "215        2     36721  0.0000     0\n",
       "216        2     40956  0.0000     0\n",
       "217        2     31933  0.0000     0"
      ]
     },
     "execution_count": 17,
     "metadata": {},
     "output_type": "execute_result"
    }
   ],
   "source": [
    "df_rating['user'] = df_rating['user_id'].map(user2user_encoded)\n",
    "df_rating.head()"
   ]
  },
  {
   "cell_type": "code",
   "execution_count": 18,
   "id": "5e49cfdc",
   "metadata": {},
   "outputs": [],
   "source": [
    "# encoding and decoding animes\n",
    "anime_ids = df_rating['anime_id'].unique().tolist()\n",
    "\n",
    "# Encoded values\n",
    "anime2anime_encoded = {x: i for i, x in enumerate(anime_ids)}\n",
    "\n",
    "# Decoded values\n",
    "anime2anime_decoded = {i: x for i, x in enumerate(anime_ids)}\n",
    "\n",
    "num_animes = len(anime2anime_encoded)"
   ]
  },
  {
   "cell_type": "code",
   "execution_count": 19,
   "id": "78dae2d4",
   "metadata": {},
   "outputs": [
    {
     "data": {
      "text/html": [
       "<div>\n",
       "<style scoped>\n",
       "    .dataframe tbody tr th:only-of-type {\n",
       "        vertical-align: middle;\n",
       "    }\n",
       "\n",
       "    .dataframe tbody tr th {\n",
       "        vertical-align: top;\n",
       "    }\n",
       "\n",
       "    .dataframe thead th {\n",
       "        text-align: right;\n",
       "    }\n",
       "</style>\n",
       "<table border=\"1\" class=\"dataframe\">\n",
       "  <thead>\n",
       "    <tr style=\"text-align: right;\">\n",
       "      <th></th>\n",
       "      <th>user_id</th>\n",
       "      <th>anime_id</th>\n",
       "      <th>rating</th>\n",
       "      <th>user</th>\n",
       "      <th>anime</th>\n",
       "    </tr>\n",
       "  </thead>\n",
       "  <tbody>\n",
       "    <tr>\n",
       "      <th>213</th>\n",
       "      <td>2</td>\n",
       "      <td>24833</td>\n",
       "      <td>0.0000</td>\n",
       "      <td>0</td>\n",
       "      <td>0</td>\n",
       "    </tr>\n",
       "    <tr>\n",
       "      <th>214</th>\n",
       "      <td>2</td>\n",
       "      <td>235</td>\n",
       "      <td>1.0000</td>\n",
       "      <td>0</td>\n",
       "      <td>1</td>\n",
       "    </tr>\n",
       "    <tr>\n",
       "      <th>215</th>\n",
       "      <td>2</td>\n",
       "      <td>36721</td>\n",
       "      <td>0.0000</td>\n",
       "      <td>0</td>\n",
       "      <td>2</td>\n",
       "    </tr>\n",
       "    <tr>\n",
       "      <th>216</th>\n",
       "      <td>2</td>\n",
       "      <td>40956</td>\n",
       "      <td>0.0000</td>\n",
       "      <td>0</td>\n",
       "      <td>3</td>\n",
       "    </tr>\n",
       "    <tr>\n",
       "      <th>217</th>\n",
       "      <td>2</td>\n",
       "      <td>31933</td>\n",
       "      <td>0.0000</td>\n",
       "      <td>0</td>\n",
       "      <td>4</td>\n",
       "    </tr>\n",
       "  </tbody>\n",
       "</table>\n",
       "</div>"
      ],
      "text/plain": [
       "     user_id  anime_id  rating  user  anime\n",
       "213        2     24833  0.0000     0      0\n",
       "214        2       235  1.0000     0      1\n",
       "215        2     36721  0.0000     0      2\n",
       "216        2     40956  0.0000     0      3\n",
       "217        2     31933  0.0000     0      4"
      ]
     },
     "execution_count": 19,
     "metadata": {},
     "output_type": "execute_result"
    }
   ],
   "source": [
    "df_rating['anime'] = df_rating['anime_id'].map(anime2anime_encoded)\n",
    "df_rating.head()"
   ]
  },
  {
   "cell_type": "code",
   "execution_count": 20,
   "id": "44b8c70c",
   "metadata": {},
   "outputs": [],
   "source": [
    "# separating into training and testing\n",
    "X = df_rating[['user', 'anime']].values\n",
    "y = df_rating['rating']"
   ]
  },
  {
   "cell_type": "code",
   "execution_count": 21,
   "id": "b93a8ac1",
   "metadata": {},
   "outputs": [],
   "source": [
    "# # Train Test Splitting\n",
    "X_train, X_test, y_train, y_test = train_test_split(\n",
    "    X, y, random_state=42, shuffle=True, test_size=0.2\n",
    ")"
   ]
  },
  {
   "cell_type": "code",
   "execution_count": 22,
   "id": "9937509d",
   "metadata": {},
   "outputs": [
    {
     "data": {
      "text/plain": [
       "((3246641, 2), (2597312, 2), (649329, 2))"
      ]
     },
     "execution_count": 22,
     "metadata": {},
     "output_type": "execute_result"
    }
   ],
   "source": [
    "X.shape, X_train.shape, X_test.shape"
   ]
  },
  {
   "cell_type": "code",
   "execution_count": 23,
   "id": "29b9cca8",
   "metadata": {},
   "outputs": [
    {
     "data": {
      "text/plain": [
       "((2597312,), (649329,))"
      ]
     },
     "execution_count": 23,
     "metadata": {},
     "output_type": "execute_result"
    }
   ],
   "source": [
    "y_train.shape, y_test.shape"
   ]
  },
  {
   "cell_type": "code",
   "execution_count": 24,
   "id": "4b44298c",
   "metadata": {},
   "outputs": [
    {
     "data": {
      "text/plain": [
       "numpy.ndarray"
      ]
     },
     "execution_count": 24,
     "metadata": {},
     "output_type": "execute_result"
    }
   ],
   "source": [
    "type(X_train)"
   ]
  },
  {
   "cell_type": "code",
   "execution_count": 25,
   "id": "ee13b889",
   "metadata": {},
   "outputs": [
    {
     "data": {
      "text/plain": [
       "array([[  27, 2700],\n",
       "       [2173, 2056],\n",
       "       [ 482,  197],\n",
       "       ...,\n",
       "       [2881, 5028],\n",
       "       [3569,  175],\n",
       "       [2870, 1895]], shape=(2597312, 2))"
      ]
     },
     "execution_count": 25,
     "metadata": {},
     "output_type": "execute_result"
    }
   ],
   "source": [
    "X_train"
   ]
  },
  {
   "cell_type": "code",
   "execution_count": 26,
   "id": "11de6b64",
   "metadata": {},
   "outputs": [
    {
     "data": {
      "text/plain": [
       "(list, numpy.ndarray)"
      ]
     },
     "execution_count": 26,
     "metadata": {},
     "output_type": "execute_result"
    }
   ],
   "source": [
    "# # Splitting into two halves: user and anime\n",
    "X_train_array = [X_train[:, 0], X_train[:, 1]]\n",
    "X_test_array = [X_test[:, 0], X_test[:, 1]]\n",
    "\n",
    "type(X_train_array), type(X_train_array[0])"
   ]
  },
  {
   "cell_type": "code",
   "execution_count": 27,
   "id": "c87467ef",
   "metadata": {},
   "outputs": [
    {
     "data": {
      "text/plain": [
       "[array([  27, 2173,  482, ..., 2881, 3569, 2870], shape=(2597312,)),\n",
       " array([2700, 2056,  197, ..., 5028,  175, 1895], shape=(2597312,))]"
      ]
     },
     "execution_count": 27,
     "metadata": {},
     "output_type": "execute_result"
    }
   ],
   "source": [
    "X_train_array"
   ]
  },
  {
   "cell_type": "markdown",
   "id": "9a331297",
   "metadata": {},
   "source": [
    "### Model Architecture"
   ]
  },
  {
   "cell_type": "code",
   "execution_count": 28,
   "id": "c022269c",
   "metadata": {},
   "outputs": [],
   "source": [
    "def Recommender(num_users, num_animes):\n",
    "    embedding_size = 128\n",
    "    \n",
    "    user = Input(name= 'user', shape= [1])\n",
    "    user_embedding = Embedding(name= 'user_embedding', input_dim= num_users, output_dim= embedding_size)(user)\n",
    "\n",
    "\n",
    "    anime = Input(name= 'anime', shape= [1])\n",
    "    anime_embedding = Embedding(name= 'anime_embedding', input_dim= num_animes, output_dim= embedding_size)(anime)\n",
    "\n",
    "\n",
    "    dot_product = Dot(name= 'dot_product', normalize= True, axes= 2)([user_embedding, anime_embedding])\n",
    "\n",
    "\n",
    "    dot_product = Flatten()(dot_product)\n",
    "    \n",
    "\n",
    "    dot_product = Dense(1, kernel_initializer= 'he_normal')(dot_product)\n",
    "\n",
    "\n",
    "    dot_product = BatchNormalization()(dot_product)\n",
    "\n",
    "\n",
    "    dot_product = Activation('sigmoid')(dot_product)\n",
    "\n",
    "\n",
    "    model = Model(inputs= [user, anime], outputs= dot_product)\n",
    "\n",
    "\n",
    "    model.compile(loss= 'binary_crossentropy', metrics= ['mae', 'mse'], optimizer= 'Adam')\n",
    "\n",
    "    return model"
   ]
  },
  {
   "cell_type": "code",
   "execution_count": 29,
   "id": "5079340f",
   "metadata": {},
   "outputs": [
    {
     "data": {
      "text/html": [
       "<pre style=\"white-space:pre;overflow-x:auto;line-height:normal;font-family:Menlo,'DejaVu Sans Mono',consolas,'Courier New',monospace\"><span style=\"font-weight: bold\">Model: \"functional\"</span>\n",
       "</pre>\n"
      ],
      "text/plain": [
       "\u001b[1mModel: \"functional\"\u001b[0m\n"
      ]
     },
     "metadata": {},
     "output_type": "display_data"
    },
    {
     "data": {
      "text/html": [
       "<pre style=\"white-space:pre;overflow-x:auto;line-height:normal;font-family:Menlo,'DejaVu Sans Mono',consolas,'Courier New',monospace\">┏━━━━━━━━━━━━━━━━━━━━━┳━━━━━━━━━━━━━━━━━━━┳━━━━━━━━━━━━┳━━━━━━━━━━━━━━━━━━━┓\n",
       "┃<span style=\"font-weight: bold\"> Layer (type)        </span>┃<span style=\"font-weight: bold\"> Output Shape      </span>┃<span style=\"font-weight: bold\">    Param # </span>┃<span style=\"font-weight: bold\"> Connected to      </span>┃\n",
       "┡━━━━━━━━━━━━━━━━━━━━━╇━━━━━━━━━━━━━━━━━━━╇━━━━━━━━━━━━╇━━━━━━━━━━━━━━━━━━━┩\n",
       "│ user (<span style=\"color: #0087ff; text-decoration-color: #0087ff\">InputLayer</span>)   │ (<span style=\"color: #00d7ff; text-decoration-color: #00d7ff\">None</span>, <span style=\"color: #00af00; text-decoration-color: #00af00\">1</span>)         │          <span style=\"color: #00af00; text-decoration-color: #00af00\">0</span> │ -                 │\n",
       "├─────────────────────┼───────────────────┼────────────┼───────────────────┤\n",
       "│ anime (<span style=\"color: #0087ff; text-decoration-color: #0087ff\">InputLayer</span>)  │ (<span style=\"color: #00d7ff; text-decoration-color: #00d7ff\">None</span>, <span style=\"color: #00af00; text-decoration-color: #00af00\">1</span>)         │          <span style=\"color: #00af00; text-decoration-color: #00af00\">0</span> │ -                 │\n",
       "├─────────────────────┼───────────────────┼────────────┼───────────────────┤\n",
       "│ user_embedding      │ (<span style=\"color: #00d7ff; text-decoration-color: #00d7ff\">None</span>, <span style=\"color: #00af00; text-decoration-color: #00af00\">1</span>, <span style=\"color: #00af00; text-decoration-color: #00af00\">128</span>)    │    <span style=\"color: #00af00; text-decoration-color: #00af00\">537,984</span> │ user[<span style=\"color: #00af00; text-decoration-color: #00af00\">0</span>][<span style=\"color: #00af00; text-decoration-color: #00af00\">0</span>]        │\n",
       "│ (<span style=\"color: #0087ff; text-decoration-color: #0087ff\">Embedding</span>)         │                   │            │                   │\n",
       "├─────────────────────┼───────────────────┼────────────┼───────────────────┤\n",
       "│ anime_embedding     │ (<span style=\"color: #00d7ff; text-decoration-color: #00d7ff\">None</span>, <span style=\"color: #00af00; text-decoration-color: #00af00\">1</span>, <span style=\"color: #00af00; text-decoration-color: #00af00\">128</span>)    │  <span style=\"color: #00af00; text-decoration-color: #00af00\">2,195,072</span> │ anime[<span style=\"color: #00af00; text-decoration-color: #00af00\">0</span>][<span style=\"color: #00af00; text-decoration-color: #00af00\">0</span>]       │\n",
       "│ (<span style=\"color: #0087ff; text-decoration-color: #0087ff\">Embedding</span>)         │                   │            │                   │\n",
       "├─────────────────────┼───────────────────┼────────────┼───────────────────┤\n",
       "│ dot_product (<span style=\"color: #0087ff; text-decoration-color: #0087ff\">Dot</span>)   │ (<span style=\"color: #00d7ff; text-decoration-color: #00d7ff\">None</span>, <span style=\"color: #00af00; text-decoration-color: #00af00\">1</span>, <span style=\"color: #00af00; text-decoration-color: #00af00\">1</span>)      │          <span style=\"color: #00af00; text-decoration-color: #00af00\">0</span> │ user_embedding[<span style=\"color: #00af00; text-decoration-color: #00af00\">0</span>… │\n",
       "│                     │                   │            │ anime_embedding[<span style=\"color: #00af00; text-decoration-color: #00af00\">…</span> │\n",
       "├─────────────────────┼───────────────────┼────────────┼───────────────────┤\n",
       "│ flatten (<span style=\"color: #0087ff; text-decoration-color: #0087ff\">Flatten</span>)   │ (<span style=\"color: #00d7ff; text-decoration-color: #00d7ff\">None</span>, <span style=\"color: #00af00; text-decoration-color: #00af00\">1</span>)         │          <span style=\"color: #00af00; text-decoration-color: #00af00\">0</span> │ dot_product[<span style=\"color: #00af00; text-decoration-color: #00af00\">0</span>][<span style=\"color: #00af00; text-decoration-color: #00af00\">0</span>] │\n",
       "├─────────────────────┼───────────────────┼────────────┼───────────────────┤\n",
       "│ dense (<span style=\"color: #0087ff; text-decoration-color: #0087ff\">Dense</span>)       │ (<span style=\"color: #00d7ff; text-decoration-color: #00d7ff\">None</span>, <span style=\"color: #00af00; text-decoration-color: #00af00\">1</span>)         │          <span style=\"color: #00af00; text-decoration-color: #00af00\">2</span> │ flatten[<span style=\"color: #00af00; text-decoration-color: #00af00\">0</span>][<span style=\"color: #00af00; text-decoration-color: #00af00\">0</span>]     │\n",
       "├─────────────────────┼───────────────────┼────────────┼───────────────────┤\n",
       "│ batch_normalization │ (<span style=\"color: #00d7ff; text-decoration-color: #00d7ff\">None</span>, <span style=\"color: #00af00; text-decoration-color: #00af00\">1</span>)         │          <span style=\"color: #00af00; text-decoration-color: #00af00\">4</span> │ dense[<span style=\"color: #00af00; text-decoration-color: #00af00\">0</span>][<span style=\"color: #00af00; text-decoration-color: #00af00\">0</span>]       │\n",
       "│ (<span style=\"color: #0087ff; text-decoration-color: #0087ff\">BatchNormalizatio…</span> │                   │            │                   │\n",
       "├─────────────────────┼───────────────────┼────────────┼───────────────────┤\n",
       "│ activation          │ (<span style=\"color: #00d7ff; text-decoration-color: #00d7ff\">None</span>, <span style=\"color: #00af00; text-decoration-color: #00af00\">1</span>)         │          <span style=\"color: #00af00; text-decoration-color: #00af00\">0</span> │ batch_normalizat… │\n",
       "│ (<span style=\"color: #0087ff; text-decoration-color: #0087ff\">Activation</span>)        │                   │            │                   │\n",
       "└─────────────────────┴───────────────────┴────────────┴───────────────────┘\n",
       "</pre>\n"
      ],
      "text/plain": [
       "┏━━━━━━━━━━━━━━━━━━━━━┳━━━━━━━━━━━━━━━━━━━┳━━━━━━━━━━━━┳━━━━━━━━━━━━━━━━━━━┓\n",
       "┃\u001b[1m \u001b[0m\u001b[1mLayer (type)       \u001b[0m\u001b[1m \u001b[0m┃\u001b[1m \u001b[0m\u001b[1mOutput Shape     \u001b[0m\u001b[1m \u001b[0m┃\u001b[1m \u001b[0m\u001b[1m   Param #\u001b[0m\u001b[1m \u001b[0m┃\u001b[1m \u001b[0m\u001b[1mConnected to     \u001b[0m\u001b[1m \u001b[0m┃\n",
       "┡━━━━━━━━━━━━━━━━━━━━━╇━━━━━━━━━━━━━━━━━━━╇━━━━━━━━━━━━╇━━━━━━━━━━━━━━━━━━━┩\n",
       "│ user (\u001b[38;5;33mInputLayer\u001b[0m)   │ (\u001b[38;5;45mNone\u001b[0m, \u001b[38;5;34m1\u001b[0m)         │          \u001b[38;5;34m0\u001b[0m │ -                 │\n",
       "├─────────────────────┼───────────────────┼────────────┼───────────────────┤\n",
       "│ anime (\u001b[38;5;33mInputLayer\u001b[0m)  │ (\u001b[38;5;45mNone\u001b[0m, \u001b[38;5;34m1\u001b[0m)         │          \u001b[38;5;34m0\u001b[0m │ -                 │\n",
       "├─────────────────────┼───────────────────┼────────────┼───────────────────┤\n",
       "│ user_embedding      │ (\u001b[38;5;45mNone\u001b[0m, \u001b[38;5;34m1\u001b[0m, \u001b[38;5;34m128\u001b[0m)    │    \u001b[38;5;34m537,984\u001b[0m │ user[\u001b[38;5;34m0\u001b[0m][\u001b[38;5;34m0\u001b[0m]        │\n",
       "│ (\u001b[38;5;33mEmbedding\u001b[0m)         │                   │            │                   │\n",
       "├─────────────────────┼───────────────────┼────────────┼───────────────────┤\n",
       "│ anime_embedding     │ (\u001b[38;5;45mNone\u001b[0m, \u001b[38;5;34m1\u001b[0m, \u001b[38;5;34m128\u001b[0m)    │  \u001b[38;5;34m2,195,072\u001b[0m │ anime[\u001b[38;5;34m0\u001b[0m][\u001b[38;5;34m0\u001b[0m]       │\n",
       "│ (\u001b[38;5;33mEmbedding\u001b[0m)         │                   │            │                   │\n",
       "├─────────────────────┼───────────────────┼────────────┼───────────────────┤\n",
       "│ dot_product (\u001b[38;5;33mDot\u001b[0m)   │ (\u001b[38;5;45mNone\u001b[0m, \u001b[38;5;34m1\u001b[0m, \u001b[38;5;34m1\u001b[0m)      │          \u001b[38;5;34m0\u001b[0m │ user_embedding[\u001b[38;5;34m0\u001b[0m… │\n",
       "│                     │                   │            │ anime_embedding[\u001b[38;5;34m…\u001b[0m │\n",
       "├─────────────────────┼───────────────────┼────────────┼───────────────────┤\n",
       "│ flatten (\u001b[38;5;33mFlatten\u001b[0m)   │ (\u001b[38;5;45mNone\u001b[0m, \u001b[38;5;34m1\u001b[0m)         │          \u001b[38;5;34m0\u001b[0m │ dot_product[\u001b[38;5;34m0\u001b[0m][\u001b[38;5;34m0\u001b[0m] │\n",
       "├─────────────────────┼───────────────────┼────────────┼───────────────────┤\n",
       "│ dense (\u001b[38;5;33mDense\u001b[0m)       │ (\u001b[38;5;45mNone\u001b[0m, \u001b[38;5;34m1\u001b[0m)         │          \u001b[38;5;34m2\u001b[0m │ flatten[\u001b[38;5;34m0\u001b[0m][\u001b[38;5;34m0\u001b[0m]     │\n",
       "├─────────────────────┼───────────────────┼────────────┼───────────────────┤\n",
       "│ batch_normalization │ (\u001b[38;5;45mNone\u001b[0m, \u001b[38;5;34m1\u001b[0m)         │          \u001b[38;5;34m4\u001b[0m │ dense[\u001b[38;5;34m0\u001b[0m][\u001b[38;5;34m0\u001b[0m]       │\n",
       "│ (\u001b[38;5;33mBatchNormalizatio…\u001b[0m │                   │            │                   │\n",
       "├─────────────────────┼───────────────────┼────────────┼───────────────────┤\n",
       "│ activation          │ (\u001b[38;5;45mNone\u001b[0m, \u001b[38;5;34m1\u001b[0m)         │          \u001b[38;5;34m0\u001b[0m │ batch_normalizat… │\n",
       "│ (\u001b[38;5;33mActivation\u001b[0m)        │                   │            │                   │\n",
       "└─────────────────────┴───────────────────┴────────────┴───────────────────┘\n"
      ]
     },
     "metadata": {},
     "output_type": "display_data"
    },
    {
     "data": {
      "text/html": [
       "<pre style=\"white-space:pre;overflow-x:auto;line-height:normal;font-family:Menlo,'DejaVu Sans Mono',consolas,'Courier New',monospace\"><span style=\"font-weight: bold\"> Total params: </span><span style=\"color: #00af00; text-decoration-color: #00af00\">2,733,062</span> (10.43 MB)\n",
       "</pre>\n"
      ],
      "text/plain": [
       "\u001b[1m Total params: \u001b[0m\u001b[38;5;34m2,733,062\u001b[0m (10.43 MB)\n"
      ]
     },
     "metadata": {},
     "output_type": "display_data"
    },
    {
     "data": {
      "text/html": [
       "<pre style=\"white-space:pre;overflow-x:auto;line-height:normal;font-family:Menlo,'DejaVu Sans Mono',consolas,'Courier New',monospace\"><span style=\"font-weight: bold\"> Trainable params: </span><span style=\"color: #00af00; text-decoration-color: #00af00\">2,733,060</span> (10.43 MB)\n",
       "</pre>\n"
      ],
      "text/plain": [
       "\u001b[1m Trainable params: \u001b[0m\u001b[38;5;34m2,733,060\u001b[0m (10.43 MB)\n"
      ]
     },
     "metadata": {},
     "output_type": "display_data"
    },
    {
     "data": {
      "text/html": [
       "<pre style=\"white-space:pre;overflow-x:auto;line-height:normal;font-family:Menlo,'DejaVu Sans Mono',consolas,'Courier New',monospace\"><span style=\"font-weight: bold\"> Non-trainable params: </span><span style=\"color: #00af00; text-decoration-color: #00af00\">2</span> (8.00 B)\n",
       "</pre>\n"
      ],
      "text/plain": [
       "\u001b[1m Non-trainable params: \u001b[0m\u001b[38;5;34m2\u001b[0m (8.00 B)\n"
      ]
     },
     "metadata": {},
     "output_type": "display_data"
    }
   ],
   "source": [
    "model = Recommender(num_users, num_animes)\n",
    "model.summary()"
   ]
  },
  {
   "cell_type": "code",
   "execution_count": 30,
   "id": "35057b2e",
   "metadata": {},
   "outputs": [],
   "source": [
    "# Required values for model training\n",
    "\n",
    "start_lr = 0.00001\n",
    "min_lr = 0.0001\n",
    "max_lr = 0.00005\n",
    "batch_size = 10000\n",
    "ram_epochs = 4\n",
    "sustain_epochs = 0\n",
    "exp_decay = 0.8"
   ]
  },
  {
   "cell_type": "code",
   "execution_count": 31,
   "id": "33d34f6f",
   "metadata": {},
   "outputs": [],
   "source": [
    "#The purpose of this function is basically to find the best learning rate for the model.\n",
    "\n",
    "def learning_rate_fn(epoch):\n",
    "    if epoch < ram_epochs:\n",
    "        return (max_lr - start_lr) / ram_epochs * epoch + start_lr\n",
    "    elif epoch < ram_epochs + sustain_epochs:\n",
    "        return max_lr\n",
    "    else:\n",
    "        return (max_lr - min_lr) * exp_decay ** (epoch - ram_epochs - sustain_epochs) + min_lr"
   ]
  },
  {
   "cell_type": "code",
   "execution_count": 32,
   "id": "08375d2c",
   "metadata": {},
   "outputs": [],
   "source": [
    "learning_rate_callback = LearningRateScheduler(\n",
    "    lambda epoch: learning_rate_fn(epoch= epoch), verbose= 0\n",
    ")\n",
    "\n",
    "checkpoint_filepath = './weights.weights.h5'\n",
    "\n",
    "\n",
    "model_checkpoint = ModelCheckpoint(\n",
    "    filepath= checkpoint_filepath, save_weights_only= True, \n",
    "    monitor= 'val_loss', mode= 'min', save_best_only= True\n",
    ")\n",
    "\n",
    "\n",
    "early_stopping = EarlyStopping(\n",
    "    patience= 5, monitor= 'val_loss', \n",
    "    mode= 'min', restore_best_weights= True\n",
    ")\n",
    "\n",
    "\n",
    "callbacks = [model_checkpoint, learning_rate_callback, early_stopping]"
   ]
  },
  {
   "cell_type": "code",
   "execution_count": 33,
   "id": "bc1c5b13",
   "metadata": {},
   "outputs": [
    {
     "name": "stdout",
     "output_type": "stream",
     "text": [
      "Epoch 1/13\n",
      "\u001b[1m260/260\u001b[0m \u001b[32m━━━━━━━━━━━━━━━━━━━━\u001b[0m\u001b[37m\u001b[0m \u001b[1m19s\u001b[0m 70ms/step - loss: 0.7973 - mae: 0.3815 - mse: 0.1963 - val_loss: 0.7091 - val_mae: 0.3644 - val_mse: 0.1631 - learning_rate: 1.0000e-05\n",
      "Epoch 2/13\n",
      "\u001b[1m260/260\u001b[0m \u001b[32m━━━━━━━━━━━━━━━━━━━━\u001b[0m\u001b[37m\u001b[0m \u001b[1m18s\u001b[0m 70ms/step - loss: 0.7940 - mae: 0.3803 - mse: 0.1950 - val_loss: 0.7657 - val_mae: 0.3757 - val_mse: 0.1857 - learning_rate: 2.0000e-05\n",
      "Epoch 3/13\n",
      "\u001b[1m260/260\u001b[0m \u001b[32m━━━━━━━━━━━━━━━━━━━━\u001b[0m\u001b[37m\u001b[0m \u001b[1m19s\u001b[0m 71ms/step - loss: 0.7879 - mae: 0.3779 - mse: 0.1925 - val_loss: 0.7895 - val_mae: 0.3800 - val_mse: 0.1936 - learning_rate: 3.0000e-05\n",
      "Epoch 4/13\n",
      "\u001b[1m260/260\u001b[0m \u001b[32m━━━━━━━━━━━━━━━━━━━━\u001b[0m\u001b[37m\u001b[0m \u001b[1m19s\u001b[0m 71ms/step - loss: 0.7790 - mae: 0.3743 - mse: 0.1889 - val_loss: 0.7890 - val_mae: 0.3798 - val_mse: 0.1933 - learning_rate: 4.0000e-05\n",
      "Epoch 5/13\n",
      "\u001b[1m260/260\u001b[0m \u001b[32m━━━━━━━━━━━━━━━━━━━━\u001b[0m\u001b[37m\u001b[0m \u001b[1m19s\u001b[0m 73ms/step - loss: 0.7669 - mae: 0.3694 - mse: 0.1840 - val_loss: 0.7841 - val_mae: 0.3784 - val_mse: 0.1915 - learning_rate: 5.0000e-05\n",
      "Epoch 6/13\n",
      "\u001b[1m260/260\u001b[0m \u001b[32m━━━━━━━━━━━━━━━━━━━━\u001b[0m\u001b[37m\u001b[0m \u001b[1m20s\u001b[0m 75ms/step - loss: 0.7507 - mae: 0.3624 - mse: 0.1773 - val_loss: 0.7752 - val_mae: 0.3752 - val_mse: 0.1879 - learning_rate: 6.0000e-05\n"
     ]
    }
   ],
   "source": [
    "historical = model.fit(\n",
    "    x= X_train_array,\n",
    "    y= y_train,\n",
    "    batch_size= batch_size,\n",
    "    epochs= 13,\n",
    "    verbose= 1,\n",
    "    validation_data= (X_test_array, y_test),\n",
    "    callbacks= callbacks\n",
    ")"
   ]
  },
  {
   "cell_type": "code",
   "execution_count": 34,
   "id": "167c58f0",
   "metadata": {},
   "outputs": [
    {
     "data": {
      "image/png": "[encoded data removed]",
      "text/plain": [
       "<Figure size 800x1200 with 3 Axes>"
      ]
     },
     "metadata": {},
     "output_type": "display_data"
    }
   ],
   "source": [
    "metrics = [\"loss\", \"mae\", \"mse\"]\n",
    "\n",
    "# Create subplots\n",
    "fig, axes = plt.subplots(len(metrics), 1, figsize=(8, len(metrics) * 4))\n",
    "\n",
    "for i, metric in enumerate(metrics):\n",
    "    ax = axes[i]\n",
    "    ax.plot(historical.history[metric][0:-2], marker = \"o\", label = f\"train {metric}\")\n",
    "    ax.plot(historical.history[f\"val_{metric}\"][0:-2], marker = \"o\", label = f\"test {metric}\")\n",
    "    ax.set_title(f\"Model {metric.capitalize()}\")\n",
    "    ax.set_ylabel(metric.capitalize())\n",
    "    ax.set_xlabel(\"Epoch\")\n",
    "    ax.legend(loc = \"upper left\")\n",
    "    ax.grid(True)\n",
    "\n",
    "plt.tight_layout()\n",
    "plt.show()"
   ]
  },
  {
   "cell_type": "code",
   "execution_count": 35,
   "id": "ae70978c",
   "metadata": {},
   "outputs": [],
   "source": [
    "# Extracting weights \n",
    "\n",
    "def extract_weights(name,model):\n",
    "    weight_layer = model.get_layer(name)\n",
    "    weights = weight_layer.get_weights()[0]\n",
    "    weights = weights/np.linalg.norm(weights,axis=1).reshape((-1,1))\n",
    "    return weights"
   ]
  },
  {
   "cell_type": "code",
   "execution_count": 36,
   "id": "6ca3f7c2",
   "metadata": {},
   "outputs": [],
   "source": [
    "anime_weights = extract_weights(\"anime_embedding\", model)\n",
    "\n",
    "user_weights = extract_weights(\"user_embedding\", model)"
   ]
  },
  {
   "cell_type": "markdown",
   "id": "e15db38b",
   "metadata": {},
   "source": [
    "### Anime Dataset Loading and Processing"
   ]
  },
  {
   "cell_type": "code",
   "execution_count": 37,
   "id": "6759a0a7",
   "metadata": {},
   "outputs": [
    {
     "data": {
      "text/html": [
       "<div>\n",
       "<style scoped>\n",
       "    .dataframe tbody tr th:only-of-type {\n",
       "        vertical-align: middle;\n",
       "    }\n",
       "\n",
       "    .dataframe tbody tr th {\n",
       "        vertical-align: top;\n",
       "    }\n",
       "\n",
       "    .dataframe thead th {\n",
       "        text-align: right;\n",
       "    }\n",
       "</style>\n",
       "<table border=\"1\" class=\"dataframe\">\n",
       "  <thead>\n",
       "    <tr style=\"text-align: right;\">\n",
       "      <th></th>\n",
       "      <th>MAL_ID</th>\n",
       "      <th>Name</th>\n",
       "      <th>Score</th>\n",
       "      <th>Genres</th>\n",
       "      <th>English name</th>\n",
       "      <th>Japanese name</th>\n",
       "      <th>Type</th>\n",
       "      <th>Episodes</th>\n",
       "      <th>Aired</th>\n",
       "      <th>Premiered</th>\n",
       "      <th>Producers</th>\n",
       "      <th>Licensors</th>\n",
       "      <th>Studios</th>\n",
       "      <th>Source</th>\n",
       "      <th>Duration</th>\n",
       "      <th>Rating</th>\n",
       "      <th>Ranked</th>\n",
       "      <th>Popularity</th>\n",
       "      <th>Members</th>\n",
       "      <th>Favorites</th>\n",
       "      <th>Watching</th>\n",
       "      <th>Completed</th>\n",
       "      <th>On-Hold</th>\n",
       "      <th>Dropped</th>\n",
       "      <th>Plan to Watch</th>\n",
       "      <th>Score-10</th>\n",
       "      <th>Score-9</th>\n",
       "      <th>Score-8</th>\n",
       "      <th>Score-7</th>\n",
       "      <th>Score-6</th>\n",
       "      <th>Score-5</th>\n",
       "      <th>Score-4</th>\n",
       "      <th>Score-3</th>\n",
       "      <th>Score-2</th>\n",
       "      <th>Score-1</th>\n",
       "    </tr>\n",
       "  </thead>\n",
       "  <tbody>\n",
       "    <tr>\n",
       "      <th>0</th>\n",
       "      <td>1</td>\n",
       "      <td>Cowboy Bebop</td>\n",
       "      <td>8.78</td>\n",
       "      <td>Action, Adventure, Comedy, Drama, Sci-Fi, Space</td>\n",
       "      <td>Cowboy Bebop</td>\n",
       "      <td>カウボーイビバップ</td>\n",
       "      <td>TV</td>\n",
       "      <td>26</td>\n",
       "      <td>Apr 3, 1998 to Apr 24, 1999</td>\n",
       "      <td>Spring 1998</td>\n",
       "      <td>Bandai Visual</td>\n",
       "      <td>Funimation, Bandai Entertainment</td>\n",
       "      <td>Sunrise</td>\n",
       "      <td>Original</td>\n",
       "      <td>24 min. per ep.</td>\n",
       "      <td>R - 17+ (violence &amp; profanity)</td>\n",
       "      <td>28.0</td>\n",
       "      <td>39</td>\n",
       "      <td>1251960</td>\n",
       "      <td>61971</td>\n",
       "      <td>105808</td>\n",
       "      <td>718161</td>\n",
       "      <td>71513</td>\n",
       "      <td>26678</td>\n",
       "      <td>329800</td>\n",
       "      <td>229170.0</td>\n",
       "      <td>182126.0</td>\n",
       "      <td>131625.0</td>\n",
       "      <td>62330.0</td>\n",
       "      <td>20688.0</td>\n",
       "      <td>8904.0</td>\n",
       "      <td>3184.0</td>\n",
       "      <td>1357.0</td>\n",
       "      <td>741.0</td>\n",
       "      <td>1580.0</td>\n",
       "    </tr>\n",
       "    <tr>\n",
       "      <th>1</th>\n",
       "      <td>5</td>\n",
       "      <td>Cowboy Bebop: Tengoku no Tobira</td>\n",
       "      <td>8.39</td>\n",
       "      <td>Action, Drama, Mystery, Sci-Fi, Space</td>\n",
       "      <td>Cowboy Bebop:The Movie</td>\n",
       "      <td>カウボーイビバップ 天国の扉</td>\n",
       "      <td>Movie</td>\n",
       "      <td>1</td>\n",
       "      <td>Sep 1, 2001</td>\n",
       "      <td>Unknown</td>\n",
       "      <td>Sunrise, Bandai Visual</td>\n",
       "      <td>Sony Pictures Entertainment</td>\n",
       "      <td>Bones</td>\n",
       "      <td>Original</td>\n",
       "      <td>1 hr. 55 min.</td>\n",
       "      <td>R - 17+ (violence &amp; profanity)</td>\n",
       "      <td>159.0</td>\n",
       "      <td>518</td>\n",
       "      <td>273145</td>\n",
       "      <td>1174</td>\n",
       "      <td>4143</td>\n",
       "      <td>208333</td>\n",
       "      <td>1935</td>\n",
       "      <td>770</td>\n",
       "      <td>57964</td>\n",
       "      <td>30043.0</td>\n",
       "      <td>49201.0</td>\n",
       "      <td>49505.0</td>\n",
       "      <td>22632.0</td>\n",
       "      <td>5805.0</td>\n",
       "      <td>1877.0</td>\n",
       "      <td>577.0</td>\n",
       "      <td>221.0</td>\n",
       "      <td>109.0</td>\n",
       "      <td>379.0</td>\n",
       "    </tr>\n",
       "  </tbody>\n",
       "</table>\n",
       "</div>"
      ],
      "text/plain": [
       "   MAL_ID                             Name Score  \\\n",
       "0       1                     Cowboy Bebop  8.78   \n",
       "1       5  Cowboy Bebop: Tengoku no Tobira  8.39   \n",
       "\n",
       "                                            Genres            English name  \\\n",
       "0  Action, Adventure, Comedy, Drama, Sci-Fi, Space            Cowboy Bebop   \n",
       "1            Action, Drama, Mystery, Sci-Fi, Space  Cowboy Bebop:The Movie   \n",
       "\n",
       "    Japanese name   Type Episodes                        Aired    Premiered  \\\n",
       "0       カウボーイビバップ     TV       26  Apr 3, 1998 to Apr 24, 1999  Spring 1998   \n",
       "1  カウボーイビバップ 天国の扉  Movie        1                  Sep 1, 2001      Unknown   \n",
       "\n",
       "                Producers                         Licensors  Studios  \\\n",
       "0           Bandai Visual  Funimation, Bandai Entertainment  Sunrise   \n",
       "1  Sunrise, Bandai Visual       Sony Pictures Entertainment    Bones   \n",
       "\n",
       "     Source         Duration                          Rating Ranked  \\\n",
       "0  Original  24 min. per ep.  R - 17+ (violence & profanity)   28.0   \n",
       "1  Original    1 hr. 55 min.  R - 17+ (violence & profanity)  159.0   \n",
       "\n",
       "   Popularity  Members  Favorites  Watching  Completed  On-Hold  Dropped  \\\n",
       "0          39  1251960      61971    105808     718161    71513    26678   \n",
       "1         518   273145       1174      4143     208333     1935      770   \n",
       "\n",
       "   Plan to Watch  Score-10   Score-9   Score-8  Score-7  Score-6 Score-5  \\\n",
       "0         329800  229170.0  182126.0  131625.0  62330.0  20688.0  8904.0   \n",
       "1          57964   30043.0   49201.0   49505.0  22632.0   5805.0  1877.0   \n",
       "\n",
       "  Score-4 Score-3 Score-2 Score-1  \n",
       "0  3184.0  1357.0   741.0  1580.0  \n",
       "1   577.0   221.0   109.0   379.0  "
      ]
     },
     "execution_count": 37,
     "metadata": {},
     "output_type": "execute_result"
    }
   ],
   "source": [
    "data_anime = pd.read_csv(\n",
    "    DATA_PATH+\"/anime.csv\", low_memory=True\n",
    ")\n",
    "\n",
    "data_anime.head(2)"
   ]
  },
  {
   "cell_type": "code",
   "execution_count": 38,
   "id": "cbaed3ed",
   "metadata": {},
   "outputs": [
    {
     "data": {
      "text/plain": [
       "(17562, 35)"
      ]
     },
     "execution_count": 38,
     "metadata": {},
     "output_type": "execute_result"
    }
   ],
   "source": [
    "data_anime.shape"
   ]
  },
  {
   "cell_type": "code",
   "execution_count": 39,
   "id": "6c6fdd8b",
   "metadata": {},
   "outputs": [
    {
     "data": {
      "text/plain": [
       "MAL_ID           0\n",
       "Name             0\n",
       "Score            0\n",
       "Genres           0\n",
       "English name     0\n",
       "Japanese name    0\n",
       "Type             0\n",
       "Episodes         0\n",
       "Aired            0\n",
       "Premiered        0\n",
       "Producers        0\n",
       "Licensors        0\n",
       "Studios          0\n",
       "Source           0\n",
       "Duration         0\n",
       "Rating           0\n",
       "Ranked           0\n",
       "Popularity       0\n",
       "Members          0\n",
       "Favorites        0\n",
       "Watching         0\n",
       "Completed        0\n",
       "On-Hold          0\n",
       "Dropped          0\n",
       "Plan to Watch    0\n",
       "Score-10         0\n",
       "Score-9          0\n",
       "Score-8          0\n",
       "Score-7          0\n",
       "Score-6          0\n",
       "Score-5          0\n",
       "Score-4          0\n",
       "Score-3          0\n",
       "Score-2          0\n",
       "Score-1          0\n",
       "dtype: int64"
      ]
     },
     "execution_count": 39,
     "metadata": {},
     "output_type": "execute_result"
    }
   ],
   "source": [
    "data_anime.isnull().sum()"
   ]
  },
  {
   "cell_type": "code",
   "execution_count": 40,
   "id": "4e5f6432",
   "metadata": {},
   "outputs": [],
   "source": [
    "data_anime = data_anime.replace(\"Unknown\", np.nan)"
   ]
  },
  {
   "cell_type": "code",
   "execution_count": 41,
   "id": "fa29babd",
   "metadata": {},
   "outputs": [
    {
     "data": {
      "text/plain": [
       "MAL_ID               0\n",
       "Name                 0\n",
       "Score             5141\n",
       "Genres              63\n",
       "English name     10565\n",
       "Japanese name       48\n",
       "Type                37\n",
       "Episodes           516\n",
       "Aired              309\n",
       "Premiered        12817\n",
       "Producers         7794\n",
       "Licensors        13616\n",
       "Studios           7079\n",
       "Source            3567\n",
       "Duration           555\n",
       "Rating             688\n",
       "Ranked            1762\n",
       "Popularity           0\n",
       "Members              0\n",
       "Favorites            0\n",
       "Watching             0\n",
       "Completed            0\n",
       "On-Hold              0\n",
       "Dropped              0\n",
       "Plan to Watch        0\n",
       "Score-10           437\n",
       "Score-9           3167\n",
       "Score-8           1371\n",
       "Score-7            503\n",
       "Score-6            511\n",
       "Score-5            584\n",
       "Score-4            977\n",
       "Score-3           1307\n",
       "Score-2           1597\n",
       "Score-1            459\n",
       "dtype: int64"
      ]
     },
     "execution_count": 41,
     "metadata": {},
     "output_type": "execute_result"
    }
   ],
   "source": [
    "data_anime.isnull().sum()"
   ]
  },
  {
   "cell_type": "code",
   "execution_count": 42,
   "id": "72572215",
   "metadata": {},
   "outputs": [],
   "source": [
    "data_anime = data_anime.rename(\n",
    "    columns={\n",
    "        'MAL_ID': 'anime_id','English name': 'eng_version'\n",
    "    }\n",
    ")"
   ]
  },
  {
   "cell_type": "code",
   "execution_count": 43,
   "id": "78dbb45c",
   "metadata": {},
   "outputs": [],
   "source": [
    "data_anime['eng_version'] = data_anime['eng_version'].fillna(data_anime['Name'])"
   ]
  },
  {
   "cell_type": "code",
   "execution_count": 44,
   "id": "55c19135",
   "metadata": {},
   "outputs": [
    {
     "data": {
      "text/html": [
       "<div>\n",
       "<style scoped>\n",
       "    .dataframe tbody tr th:only-of-type {\n",
       "        vertical-align: middle;\n",
       "    }\n",
       "\n",
       "    .dataframe tbody tr th {\n",
       "        vertical-align: top;\n",
       "    }\n",
       "\n",
       "    .dataframe thead th {\n",
       "        text-align: right;\n",
       "    }\n",
       "</style>\n",
       "<table border=\"1\" class=\"dataframe\">\n",
       "  <thead>\n",
       "    <tr style=\"text-align: right;\">\n",
       "      <th></th>\n",
       "      <th>anime_id</th>\n",
       "      <th>eng_version</th>\n",
       "      <th>Name</th>\n",
       "    </tr>\n",
       "  </thead>\n",
       "  <tbody>\n",
       "    <tr>\n",
       "      <th>0</th>\n",
       "      <td>1</td>\n",
       "      <td>Cowboy Bebop</td>\n",
       "      <td>Cowboy Bebop</td>\n",
       "    </tr>\n",
       "    <tr>\n",
       "      <th>1</th>\n",
       "      <td>5</td>\n",
       "      <td>Cowboy Bebop:The Movie</td>\n",
       "      <td>Cowboy Bebop: Tengoku no Tobira</td>\n",
       "    </tr>\n",
       "    <tr>\n",
       "      <th>2</th>\n",
       "      <td>6</td>\n",
       "      <td>Trigun</td>\n",
       "      <td>Trigun</td>\n",
       "    </tr>\n",
       "    <tr>\n",
       "      <th>3</th>\n",
       "      <td>7</td>\n",
       "      <td>Witch Hunter Robin</td>\n",
       "      <td>Witch Hunter Robin</td>\n",
       "    </tr>\n",
       "    <tr>\n",
       "      <th>4</th>\n",
       "      <td>8</td>\n",
       "      <td>Beet the Vandel Buster</td>\n",
       "      <td>Bouken Ou Beet</td>\n",
       "    </tr>\n",
       "    <tr>\n",
       "      <th>...</th>\n",
       "      <td>...</td>\n",
       "      <td>...</td>\n",
       "      <td>...</td>\n",
       "    </tr>\n",
       "    <tr>\n",
       "      <th>17557</th>\n",
       "      <td>48481</td>\n",
       "      <td>Daomu Biji Zhi Qinling Shen Shu</td>\n",
       "      <td>Daomu Biji Zhi Qinling Shen Shu</td>\n",
       "    </tr>\n",
       "    <tr>\n",
       "      <th>17558</th>\n",
       "      <td>48483</td>\n",
       "      <td>Mieruko-chan</td>\n",
       "      <td>Mieruko-chan</td>\n",
       "    </tr>\n",
       "    <tr>\n",
       "      <th>17559</th>\n",
       "      <td>48488</td>\n",
       "      <td>Higurashi:When They Cry – SOTSU</td>\n",
       "      <td>Higurashi no Naku Koro ni Sotsu</td>\n",
       "    </tr>\n",
       "    <tr>\n",
       "      <th>17560</th>\n",
       "      <td>48491</td>\n",
       "      <td>Yama no Susume: Next Summit</td>\n",
       "      <td>Yama no Susume: Next Summit</td>\n",
       "    </tr>\n",
       "    <tr>\n",
       "      <th>17561</th>\n",
       "      <td>48492</td>\n",
       "      <td>Scarlet Nexus</td>\n",
       "      <td>Scarlet Nexus</td>\n",
       "    </tr>\n",
       "  </tbody>\n",
       "</table>\n",
       "<p>17562 rows × 3 columns</p>\n",
       "</div>"
      ],
      "text/plain": [
       "       anime_id                      eng_version  \\\n",
       "0             1                     Cowboy Bebop   \n",
       "1             5           Cowboy Bebop:The Movie   \n",
       "2             6                           Trigun   \n",
       "3             7               Witch Hunter Robin   \n",
       "4             8           Beet the Vandel Buster   \n",
       "...         ...                              ...   \n",
       "17557     48481  Daomu Biji Zhi Qinling Shen Shu   \n",
       "17558     48483                     Mieruko-chan   \n",
       "17559     48488  Higurashi:When They Cry – SOTSU   \n",
       "17560     48491      Yama no Susume: Next Summit   \n",
       "17561     48492                    Scarlet Nexus   \n",
       "\n",
       "                                  Name  \n",
       "0                         Cowboy Bebop  \n",
       "1      Cowboy Bebop: Tengoku no Tobira  \n",
       "2                               Trigun  \n",
       "3                   Witch Hunter Robin  \n",
       "4                       Bouken Ou Beet  \n",
       "...                                ...  \n",
       "17557  Daomu Biji Zhi Qinling Shen Shu  \n",
       "17558                     Mieruko-chan  \n",
       "17559  Higurashi no Naku Koro ni Sotsu  \n",
       "17560      Yama no Susume: Next Summit  \n",
       "17561                    Scarlet Nexus  \n",
       "\n",
       "[17562 rows x 3 columns]"
      ]
     },
     "execution_count": 44,
     "metadata": {},
     "output_type": "execute_result"
    }
   ],
   "source": [
    "data_anime[['anime_id', 'eng_version', 'Name']]"
   ]
  },
  {
   "cell_type": "code",
   "execution_count": 45,
   "id": "448d8bd8",
   "metadata": {},
   "outputs": [],
   "source": [
    "# Sorting the datavalues\n",
    "\n",
    "data_anime.sort_values(\n",
    "    by = ['Score'], inplace = True, ascending = False,\n",
    "    kind = 'quicksort', na_position = 'last'\n",
    ")"
   ]
  },
  {
   "cell_type": "code",
   "execution_count": 46,
   "id": "0d35bb45",
   "metadata": {},
   "outputs": [
    {
     "data": {
      "text/html": [
       "<div>\n",
       "<style scoped>\n",
       "    .dataframe tbody tr th:only-of-type {\n",
       "        vertical-align: middle;\n",
       "    }\n",
       "\n",
       "    .dataframe tbody tr th {\n",
       "        vertical-align: top;\n",
       "    }\n",
       "\n",
       "    .dataframe thead th {\n",
       "        text-align: right;\n",
       "    }\n",
       "</style>\n",
       "<table border=\"1\" class=\"dataframe\">\n",
       "  <thead>\n",
       "    <tr style=\"text-align: right;\">\n",
       "      <th></th>\n",
       "      <th>anime_id</th>\n",
       "      <th>Name</th>\n",
       "      <th>Score</th>\n",
       "      <th>Genres</th>\n",
       "      <th>eng_version</th>\n",
       "      <th>Japanese name</th>\n",
       "      <th>Type</th>\n",
       "      <th>Episodes</th>\n",
       "      <th>Aired</th>\n",
       "      <th>Premiered</th>\n",
       "      <th>Producers</th>\n",
       "      <th>Licensors</th>\n",
       "      <th>Studios</th>\n",
       "      <th>Source</th>\n",
       "      <th>Duration</th>\n",
       "      <th>Rating</th>\n",
       "      <th>Ranked</th>\n",
       "      <th>Popularity</th>\n",
       "      <th>Members</th>\n",
       "      <th>Favorites</th>\n",
       "      <th>Watching</th>\n",
       "      <th>Completed</th>\n",
       "      <th>On-Hold</th>\n",
       "      <th>Dropped</th>\n",
       "      <th>Plan to Watch</th>\n",
       "      <th>Score-10</th>\n",
       "      <th>Score-9</th>\n",
       "      <th>Score-8</th>\n",
       "      <th>Score-7</th>\n",
       "      <th>Score-6</th>\n",
       "      <th>Score-5</th>\n",
       "      <th>Score-4</th>\n",
       "      <th>Score-3</th>\n",
       "      <th>Score-2</th>\n",
       "      <th>Score-1</th>\n",
       "    </tr>\n",
       "  </thead>\n",
       "  <tbody>\n",
       "    <tr>\n",
       "      <th>3971</th>\n",
       "      <td>5114</td>\n",
       "      <td>Fullmetal Alchemist: Brotherhood</td>\n",
       "      <td>9.19</td>\n",
       "      <td>Action, Military, Adventure, Comedy, Drama, Ma...</td>\n",
       "      <td>Fullmetal Alchemist:Brotherhood</td>\n",
       "      <td>鋼の錬金術師 FULLMETAL ALCHEMIST</td>\n",
       "      <td>TV</td>\n",
       "      <td>64</td>\n",
       "      <td>Apr 5, 2009 to Jul 4, 2010</td>\n",
       "      <td>Spring 2009</td>\n",
       "      <td>Aniplex, Square Enix, Mainichi Broadcasting Sy...</td>\n",
       "      <td>Funimation, Aniplex of America</td>\n",
       "      <td>Bones</td>\n",
       "      <td>Manga</td>\n",
       "      <td>24 min. per ep.</td>\n",
       "      <td>R - 17+ (violence &amp; profanity)</td>\n",
       "      <td>1.0</td>\n",
       "      <td>3</td>\n",
       "      <td>2248456</td>\n",
       "      <td>183914</td>\n",
       "      <td>171871</td>\n",
       "      <td>1644938</td>\n",
       "      <td>75728</td>\n",
       "      <td>32456</td>\n",
       "      <td>323463</td>\n",
       "      <td>714811.0</td>\n",
       "      <td>401507.0</td>\n",
       "      <td>199160.0</td>\n",
       "      <td>70045.0</td>\n",
       "      <td>20210.0</td>\n",
       "      <td>9308.0</td>\n",
       "      <td>3222.0</td>\n",
       "      <td>1536.0</td>\n",
       "      <td>2162.0</td>\n",
       "      <td>16806.0</td>\n",
       "    </tr>\n",
       "    <tr>\n",
       "      <th>15926</th>\n",
       "      <td>40028</td>\n",
       "      <td>Shingeki no Kyojin: The Final Season</td>\n",
       "      <td>9.17</td>\n",
       "      <td>Action, Military, Mystery, Super Power, Drama,...</td>\n",
       "      <td>Attack on Titan Final Season</td>\n",
       "      <td>進撃の巨人 The Final Season</td>\n",
       "      <td>TV</td>\n",
       "      <td>16</td>\n",
       "      <td>Dec 7, 2020 to ?</td>\n",
       "      <td>Winter 2021</td>\n",
       "      <td>Production I.G, Dentsu, Mainichi Broadcasting ...</td>\n",
       "      <td>Funimation</td>\n",
       "      <td>MAPPA</td>\n",
       "      <td>Manga</td>\n",
       "      <td>23 min. per ep.</td>\n",
       "      <td>R - 17+ (violence &amp; profanity)</td>\n",
       "      <td>2.0</td>\n",
       "      <td>119</td>\n",
       "      <td>733260</td>\n",
       "      <td>44862</td>\n",
       "      <td>566239</td>\n",
       "      <td>553</td>\n",
       "      <td>6658</td>\n",
       "      <td>2090</td>\n",
       "      <td>157720</td>\n",
       "      <td>173154.0</td>\n",
       "      <td>63756.0</td>\n",
       "      <td>26016.0</td>\n",
       "      <td>8793.0</td>\n",
       "      <td>2674.0</td>\n",
       "      <td>1336.0</td>\n",
       "      <td>588.0</td>\n",
       "      <td>382.0</td>\n",
       "      <td>514.0</td>\n",
       "      <td>11061.0</td>\n",
       "    </tr>\n",
       "  </tbody>\n",
       "</table>\n",
       "</div>"
      ],
      "text/plain": [
       "       anime_id                                  Name Score  \\\n",
       "3971       5114      Fullmetal Alchemist: Brotherhood  9.19   \n",
       "15926     40028  Shingeki no Kyojin: The Final Season  9.17   \n",
       "\n",
       "                                                  Genres  \\\n",
       "3971   Action, Military, Adventure, Comedy, Drama, Ma...   \n",
       "15926  Action, Military, Mystery, Super Power, Drama,...   \n",
       "\n",
       "                           eng_version               Japanese name Type  \\\n",
       "3971   Fullmetal Alchemist:Brotherhood  鋼の錬金術師 FULLMETAL ALCHEMIST   TV   \n",
       "15926     Attack on Titan Final Season      進撃の巨人 The Final Season   TV   \n",
       "\n",
       "      Episodes                       Aired    Premiered  \\\n",
       "3971        64  Apr 5, 2009 to Jul 4, 2010  Spring 2009   \n",
       "15926       16            Dec 7, 2020 to ?  Winter 2021   \n",
       "\n",
       "                                               Producers  \\\n",
       "3971   Aniplex, Square Enix, Mainichi Broadcasting Sy...   \n",
       "15926  Production I.G, Dentsu, Mainichi Broadcasting ...   \n",
       "\n",
       "                            Licensors Studios Source         Duration  \\\n",
       "3971   Funimation, Aniplex of America   Bones  Manga  24 min. per ep.   \n",
       "15926                      Funimation   MAPPA  Manga  23 min. per ep.   \n",
       "\n",
       "                               Rating Ranked  Popularity  Members  Favorites  \\\n",
       "3971   R - 17+ (violence & profanity)    1.0           3  2248456     183914   \n",
       "15926  R - 17+ (violence & profanity)    2.0         119   733260      44862   \n",
       "\n",
       "       Watching  Completed  On-Hold  Dropped  Plan to Watch  Score-10  \\\n",
       "3971     171871    1644938    75728    32456         323463  714811.0   \n",
       "15926    566239        553     6658     2090         157720  173154.0   \n",
       "\n",
       "        Score-9   Score-8  Score-7  Score-6 Score-5 Score-4 Score-3 Score-2  \\\n",
       "3971   401507.0  199160.0  70045.0  20210.0  9308.0  3222.0  1536.0  2162.0   \n",
       "15926   63756.0   26016.0   8793.0   2674.0  1336.0   588.0   382.0   514.0   \n",
       "\n",
       "       Score-1  \n",
       "3971   16806.0  \n",
       "15926  11061.0  "
      ]
     },
     "execution_count": 46,
     "metadata": {},
     "output_type": "execute_result"
    }
   ],
   "source": [
    "data_anime.head(2)"
   ]
  },
  {
   "cell_type": "markdown",
   "id": "f16e7a92",
   "metadata": {},
   "source": [
    "### Feature Selection"
   ]
  },
  {
   "cell_type": "code",
   "execution_count": 47,
   "id": "1a24eda0",
   "metadata": {},
   "outputs": [
    {
     "data": {
      "text/html": [
       "<div>\n",
       "<style scoped>\n",
       "    .dataframe tbody tr th:only-of-type {\n",
       "        vertical-align: middle;\n",
       "    }\n",
       "\n",
       "    .dataframe tbody tr th {\n",
       "        vertical-align: top;\n",
       "    }\n",
       "\n",
       "    .dataframe thead th {\n",
       "        text-align: right;\n",
       "    }\n",
       "</style>\n",
       "<table border=\"1\" class=\"dataframe\">\n",
       "  <thead>\n",
       "    <tr style=\"text-align: right;\">\n",
       "      <th></th>\n",
       "      <th>anime_id</th>\n",
       "      <th>eng_version</th>\n",
       "      <th>Score</th>\n",
       "      <th>Genres</th>\n",
       "      <th>Episodes</th>\n",
       "      <th>Type</th>\n",
       "      <th>Premiered</th>\n",
       "      <th>Members</th>\n",
       "    </tr>\n",
       "  </thead>\n",
       "  <tbody>\n",
       "    <tr>\n",
       "      <th>3971</th>\n",
       "      <td>5114</td>\n",
       "      <td>Fullmetal Alchemist:Brotherhood</td>\n",
       "      <td>9.19</td>\n",
       "      <td>Action, Military, Adventure, Comedy, Drama, Ma...</td>\n",
       "      <td>64</td>\n",
       "      <td>TV</td>\n",
       "      <td>Spring 2009</td>\n",
       "      <td>2248456</td>\n",
       "    </tr>\n",
       "    <tr>\n",
       "      <th>15926</th>\n",
       "      <td>40028</td>\n",
       "      <td>Attack on Titan Final Season</td>\n",
       "      <td>9.17</td>\n",
       "      <td>Action, Military, Mystery, Super Power, Drama,...</td>\n",
       "      <td>16</td>\n",
       "      <td>TV</td>\n",
       "      <td>Winter 2021</td>\n",
       "      <td>733260</td>\n",
       "    </tr>\n",
       "  </tbody>\n",
       "</table>\n",
       "</div>"
      ],
      "text/plain": [
       "       anime_id                      eng_version Score  \\\n",
       "3971       5114  Fullmetal Alchemist:Brotherhood  9.19   \n",
       "15926     40028     Attack on Titan Final Season  9.17   \n",
       "\n",
       "                                                  Genres Episodes Type  \\\n",
       "3971   Action, Military, Adventure, Comedy, Drama, Ma...       64   TV   \n",
       "15926  Action, Military, Mystery, Super Power, Drama,...       16   TV   \n",
       "\n",
       "         Premiered  Members  \n",
       "3971   Spring 2009  2248456  \n",
       "15926  Winter 2021   733260  "
      ]
     },
     "execution_count": 47,
     "metadata": {},
     "output_type": "execute_result"
    }
   ],
   "source": [
    "data_anime = data_anime[[\"anime_id\", \"eng_version\", \"Score\", \"Genres\", \"Episodes\", \"Type\", \"Premiered\", \"Members\"]]\n",
    "data_anime.head(2)"
   ]
  },
  {
   "cell_type": "code",
   "execution_count": 48,
   "id": "bd608353",
   "metadata": {},
   "outputs": [
    {
     "data": {
      "text/plain": [
       "anime_id           0\n",
       "eng_version        0\n",
       "Score           5141\n",
       "Genres            63\n",
       "Episodes         516\n",
       "Type              37\n",
       "Premiered      12817\n",
       "Members            0\n",
       "dtype: int64"
      ]
     },
     "execution_count": 48,
     "metadata": {},
     "output_type": "execute_result"
    }
   ],
   "source": [
    "data_anime.isnull().sum()"
   ]
  },
  {
   "cell_type": "code",
   "execution_count": 49,
   "id": "707a7451",
   "metadata": {},
   "outputs": [
    {
     "data": {
      "text/plain": [
       "count     12421\n",
       "unique      532\n",
       "top        6.48\n",
       "freq         74\n",
       "Name: Score, dtype: object"
      ]
     },
     "execution_count": 49,
     "metadata": {},
     "output_type": "execute_result"
    }
   ],
   "source": [
    "data_anime.Score.describe()"
   ]
  },
  {
   "cell_type": "code",
   "execution_count": 50,
   "id": "1f00e174",
   "metadata": {},
   "outputs": [],
   "source": [
    "# retrieve detailed information about a specific anime \n",
    "def getAnimeFrame(anime, data):\n",
    "    \n",
    "    if isinstance(anime,int):\n",
    "        return data[data['anime_id'] == anime]\n",
    "    \n",
    "    if isinstance(anime,str):\n",
    "        return data[data['eng_version'] == anime]"
   ]
  },
  {
   "cell_type": "code",
   "execution_count": 51,
   "id": "5cab0b86",
   "metadata": {},
   "outputs": [
    {
     "data": {
      "text/html": [
       "<div>\n",
       "<style scoped>\n",
       "    .dataframe tbody tr th:only-of-type {\n",
       "        vertical-align: middle;\n",
       "    }\n",
       "\n",
       "    .dataframe tbody tr th {\n",
       "        vertical-align: top;\n",
       "    }\n",
       "\n",
       "    .dataframe thead th {\n",
       "        text-align: right;\n",
       "    }\n",
       "</style>\n",
       "<table border=\"1\" class=\"dataframe\">\n",
       "  <thead>\n",
       "    <tr style=\"text-align: right;\">\n",
       "      <th></th>\n",
       "      <th>anime_id</th>\n",
       "      <th>eng_version</th>\n",
       "      <th>Score</th>\n",
       "      <th>Genres</th>\n",
       "      <th>Episodes</th>\n",
       "      <th>Type</th>\n",
       "      <th>Premiered</th>\n",
       "      <th>Members</th>\n",
       "    </tr>\n",
       "  </thead>\n",
       "  <tbody>\n",
       "    <tr>\n",
       "      <th>8</th>\n",
       "      <td>18</td>\n",
       "      <td>Initial D Fourth Stage</td>\n",
       "      <td>8.15</td>\n",
       "      <td>Action, Cars, Sports, Drama, Seinen</td>\n",
       "      <td>24</td>\n",
       "      <td>TV</td>\n",
       "      <td>Spring 2004</td>\n",
       "      <td>117929</td>\n",
       "    </tr>\n",
       "  </tbody>\n",
       "</table>\n",
       "</div>"
      ],
      "text/plain": [
       "   anime_id             eng_version Score  \\\n",
       "8        18  Initial D Fourth Stage  8.15   \n",
       "\n",
       "                                Genres Episodes Type    Premiered  Members  \n",
       "8  Action, Cars, Sports, Drama, Seinen       24   TV  Spring 2004   117929  "
      ]
     },
     "execution_count": 51,
     "metadata": {},
     "output_type": "execute_result"
    }
   ],
   "source": [
    "getAnimeFrame(18, data_anime)"
   ]
  },
  {
   "cell_type": "code",
   "execution_count": 52,
   "id": "b875e716",
   "metadata": {},
   "outputs": [
    {
     "data": {
      "text/html": [
       "<div>\n",
       "<style scoped>\n",
       "    .dataframe tbody tr th:only-of-type {\n",
       "        vertical-align: middle;\n",
       "    }\n",
       "\n",
       "    .dataframe tbody tr th {\n",
       "        vertical-align: top;\n",
       "    }\n",
       "\n",
       "    .dataframe thead th {\n",
       "        text-align: right;\n",
       "    }\n",
       "</style>\n",
       "<table border=\"1\" class=\"dataframe\">\n",
       "  <thead>\n",
       "    <tr style=\"text-align: right;\">\n",
       "      <th></th>\n",
       "      <th>anime_id</th>\n",
       "      <th>eng_version</th>\n",
       "      <th>Score</th>\n",
       "      <th>Genres</th>\n",
       "      <th>Episodes</th>\n",
       "      <th>Type</th>\n",
       "      <th>Premiered</th>\n",
       "      <th>Members</th>\n",
       "    </tr>\n",
       "  </thead>\n",
       "  <tbody>\n",
       "    <tr>\n",
       "      <th>10</th>\n",
       "      <td>20</td>\n",
       "      <td>Naruto</td>\n",
       "      <td>7.91</td>\n",
       "      <td>Action, Adventure, Comedy, Super Power, Martia...</td>\n",
       "      <td>220</td>\n",
       "      <td>TV</td>\n",
       "      <td>Fall 2002</td>\n",
       "      <td>1830540</td>\n",
       "    </tr>\n",
       "  </tbody>\n",
       "</table>\n",
       "</div>"
      ],
      "text/plain": [
       "    anime_id eng_version Score  \\\n",
       "10        20      Naruto  7.91   \n",
       "\n",
       "                                               Genres Episodes Type  \\\n",
       "10  Action, Adventure, Comedy, Super Power, Martia...      220   TV   \n",
       "\n",
       "    Premiered  Members  \n",
       "10  Fall 2002  1830540  "
      ]
     },
     "execution_count": 52,
     "metadata": {},
     "output_type": "execute_result"
    }
   ],
   "source": [
    "getAnimeFrame('Naruto', data_anime)"
   ]
  },
  {
   "cell_type": "markdown",
   "id": "886ab83d",
   "metadata": {},
   "source": [
    "### Anime Dataset with Synopsis Loading and Processing"
   ]
  },
  {
   "cell_type": "code",
   "execution_count": 53,
   "id": "728cc9b2",
   "metadata": {},
   "outputs": [
    {
     "data": {
      "text/html": [
       "<div>\n",
       "<style scoped>\n",
       "    .dataframe tbody tr th:only-of-type {\n",
       "        vertical-align: middle;\n",
       "    }\n",
       "\n",
       "    .dataframe tbody tr th {\n",
       "        vertical-align: top;\n",
       "    }\n",
       "\n",
       "    .dataframe thead th {\n",
       "        text-align: right;\n",
       "    }\n",
       "</style>\n",
       "<table border=\"1\" class=\"dataframe\">\n",
       "  <thead>\n",
       "    <tr style=\"text-align: right;\">\n",
       "      <th></th>\n",
       "      <th>MAL_ID</th>\n",
       "      <th>Name</th>\n",
       "      <th>Genres</th>\n",
       "      <th>sypnopsis</th>\n",
       "    </tr>\n",
       "  </thead>\n",
       "  <tbody>\n",
       "    <tr>\n",
       "      <th>0</th>\n",
       "      <td>1</td>\n",
       "      <td>Cowboy Bebop</td>\n",
       "      <td>Action, Adventure, Comedy, Drama, Sci-Fi, Space</td>\n",
       "      <td>In the year 2071, humanity has colonized sever...</td>\n",
       "    </tr>\n",
       "    <tr>\n",
       "      <th>1</th>\n",
       "      <td>5</td>\n",
       "      <td>Cowboy Bebop: Tengoku no Tobira</td>\n",
       "      <td>Action, Drama, Mystery, Sci-Fi, Space</td>\n",
       "      <td>other day, another bounty—such is the life of ...</td>\n",
       "    </tr>\n",
       "    <tr>\n",
       "      <th>2</th>\n",
       "      <td>6</td>\n",
       "      <td>Trigun</td>\n",
       "      <td>Action, Sci-Fi, Adventure, Comedy, Drama, Shounen</td>\n",
       "      <td>Vash the Stampede is the man with a $$60,000,0...</td>\n",
       "    </tr>\n",
       "    <tr>\n",
       "      <th>3</th>\n",
       "      <td>7</td>\n",
       "      <td>Witch Hunter Robin</td>\n",
       "      <td>Action, Mystery, Police, Supernatural, Drama, ...</td>\n",
       "      <td>ches are individuals with special powers like ...</td>\n",
       "    </tr>\n",
       "    <tr>\n",
       "      <th>4</th>\n",
       "      <td>8</td>\n",
       "      <td>Bouken Ou Beet</td>\n",
       "      <td>Adventure, Fantasy, Shounen, Supernatural</td>\n",
       "      <td>It is the dark century and the people are suff...</td>\n",
       "    </tr>\n",
       "  </tbody>\n",
       "</table>\n",
       "</div>"
      ],
      "text/plain": [
       "   MAL_ID                             Name  \\\n",
       "0       1                     Cowboy Bebop   \n",
       "1       5  Cowboy Bebop: Tengoku no Tobira   \n",
       "2       6                           Trigun   \n",
       "3       7               Witch Hunter Robin   \n",
       "4       8                   Bouken Ou Beet   \n",
       "\n",
       "                                              Genres  \\\n",
       "0    Action, Adventure, Comedy, Drama, Sci-Fi, Space   \n",
       "1              Action, Drama, Mystery, Sci-Fi, Space   \n",
       "2  Action, Sci-Fi, Adventure, Comedy, Drama, Shounen   \n",
       "3  Action, Mystery, Police, Supernatural, Drama, ...   \n",
       "4          Adventure, Fantasy, Shounen, Supernatural   \n",
       "\n",
       "                                           sypnopsis  \n",
       "0  In the year 2071, humanity has colonized sever...  \n",
       "1  other day, another bounty—such is the life of ...  \n",
       "2  Vash the Stampede is the man with a $$60,000,0...  \n",
       "3  ches are individuals with special powers like ...  \n",
       "4  It is the dark century and the people are suff...  "
      ]
     },
     "execution_count": 53,
     "metadata": {},
     "output_type": "execute_result"
    }
   ],
   "source": [
    "data_synopsis = pd.read_csv(\n",
    "    DATA_PATH+\"/anime_with_synopsis.csv\",\n",
    "    usecols= ['MAL_ID', 'Name', 'Genres', 'sypnopsis']\n",
    ")\n",
    "\n",
    "data_synopsis.head()"
   ]
  },
  {
   "cell_type": "code",
   "execution_count": 54,
   "id": "7f2f714a",
   "metadata": {},
   "outputs": [
    {
     "name": "stdout",
     "output_type": "stream",
     "text": [
      "<class 'pandas.core.frame.DataFrame'>\n",
      "RangeIndex: 16214 entries, 0 to 16213\n",
      "Data columns (total 4 columns):\n",
      " #   Column     Non-Null Count  Dtype \n",
      "---  ------     --------------  ----- \n",
      " 0   MAL_ID     16214 non-null  int64 \n",
      " 1   Name       16214 non-null  object\n",
      " 2   Genres     16214 non-null  object\n",
      " 3   sypnopsis  16206 non-null  object\n",
      "dtypes: int64(1), object(3)\n",
      "memory usage: 506.8+ KB\n"
     ]
    }
   ],
   "source": [
    "data_synopsis.info()"
   ]
  },
  {
   "cell_type": "code",
   "execution_count": 55,
   "id": "95d22c9e",
   "metadata": {},
   "outputs": [],
   "source": [
    "data_synopsis = data_synopsis.rename(\n",
    "    columns={\n",
    "        'sypnopsis': 'synopsis',\n",
    "        'MAL_ID': 'anime_id'\n",
    "    }\n",
    ")"
   ]
  },
  {
   "cell_type": "code",
   "execution_count": 56,
   "id": "3d870222",
   "metadata": {},
   "outputs": [
    {
     "data": {
      "text/plain": [
       "Index(['anime_id', 'Name', 'Genres', 'synopsis'], dtype='object')"
      ]
     },
     "execution_count": 56,
     "metadata": {},
     "output_type": "execute_result"
    }
   ],
   "source": [
    "data_synopsis.columns"
   ]
  },
  {
   "cell_type": "code",
   "execution_count": 57,
   "id": "a60a0ef2",
   "metadata": {},
   "outputs": [
    {
     "data": {
      "text/plain": [
       "(16214, 4)"
      ]
     },
     "execution_count": 57,
     "metadata": {},
     "output_type": "execute_result"
    }
   ],
   "source": [
    "data_synopsis.shape"
   ]
  },
  {
   "cell_type": "code",
   "execution_count": null,
   "id": "ed30aed3",
   "metadata": {},
   "outputs": [],
   "source": [
    "# Function to get the synopsis of a particular id or name\n",
    "\n",
    "def getSynopsis(anime, data):\n",
    "    if isinstance(anime,int):\n",
    "        return data[data.anime_id == anime].synopsis.values[0]\n",
    "    \n",
    "    if isinstance(anime, str):\n",
    "        return data[data.Name == anime].synopsis.values[0]"
   ]
  },
  {
   "cell_type": "markdown",
   "id": "95198fb9",
   "metadata": {},
   "source": [
    "#### Content Based Recommendation System"
   ]
  },
  {
   "cell_type": "code",
   "execution_count": null,
   "id": "75cc3bf7",
   "metadata": {},
   "outputs": [],
   "source": [
    "def find_similar_animes(name, anime_weights, anime2anime_encoded, anime2anime_decoded, data, synopsis_data, n = 10, return_dist = False, neg = False):\n",
    "    \"\"\"\n",
    "    Find similar (or dissimilar) animes given an anime name, based on embedding similarity.\n",
    "    This function uses pre-trained embedding weights to compute cosine similarity \n",
    "    between the given anime and all others in the dataset. It can return the \n",
    "    top-N most similar animes or the least similar ones, depending on the \n",
    "    `neg` flag.\n",
    "    \"\"\"\n",
    "    \n",
    "    try:\n",
    "        index = getAnimeFrame(name, data).anime_id.values[0]\n",
    "        encoded_index = anime2anime_encoded.get(index)\n",
    "\n",
    "        if encoded_index is None:\n",
    "            raise ValueError(f\"Encoded index not found for anime ID: {index}\")\n",
    "        \n",
    "        weights = anime_weights\n",
    "\n",
    "        distances = np.dot(weights, weights[encoded_index]) \n",
    "        sorted_distances = np.argsort(distances)\n",
    "\n",
    "        n = n + 1\n",
    "\n",
    "        if neg == True:\n",
    "            closest = sorted_distances[:n]\n",
    "        else:\n",
    "            closest = sorted_distances[-n:]\n",
    "\n",
    "        if return_dist:\n",
    "            return distances, closest\n",
    "\n",
    "        Similarity_Array = []\n",
    "\n",
    "        for close in closest:\n",
    "            decoded_id = anime2anime_decoded.get(close)\n",
    "\n",
    "            synopsis = getSynopsis(decoded_id, synopsis_data)    \n",
    "            anime_frame = getAnimeFrame(decoded_id, data)\n",
    "            \n",
    "            anime_name = anime_frame.eng_version.values[0]\n",
    "            genre = anime_frame.Genres.values[0]\n",
    "            \n",
    "            similarity = distances[close]\n",
    "\n",
    "            Similarity_Array.append({\n",
    "                \"anime_id\": decoded_id,\n",
    "                \"name\": anime_name,\n",
    "                \"similarity\": similarity,\n",
    "                \"genre\": genre,\n",
    "                \"synopsis\": synopsis\n",
    "            })\n",
    "        \n",
    "        Frame = pd.DataFrame(Similarity_Array).sort_values(by = \"similarity\", ascending = False)\n",
    "        return Frame[Frame.anime_id != index].drop(['anime_id'], axis = 1)\n",
    "    \n",
    "    except Exception as e:\n",
    "        print(f\"An error occurred: {e}\")\n",
    "        return pd.DataFrame()  \n"
   ]
  },
  {
   "cell_type": "code",
   "execution_count": null,
   "id": "dfbf31aa",
   "metadata": {},
   "outputs": [
    {
     "data": {
      "text/html": [
       "<div>\n",
       "<style scoped>\n",
       "    .dataframe tbody tr th:only-of-type {\n",
       "        vertical-align: middle;\n",
       "    }\n",
       "\n",
       "    .dataframe tbody tr th {\n",
       "        vertical-align: top;\n",
       "    }\n",
       "\n",
       "    .dataframe thead th {\n",
       "        text-align: right;\n",
       "    }\n",
       "</style>\n",
       "<table border=\"1\" class=\"dataframe\">\n",
       "  <thead>\n",
       "    <tr style=\"text-align: right;\">\n",
       "      <th></th>\n",
       "      <th>name</th>\n",
       "      <th>similarity</th>\n",
       "      <th>genre</th>\n",
       "      <th>synopsis</th>\n",
       "    </tr>\n",
       "  </thead>\n",
       "  <tbody>\n",
       "    <tr>\n",
       "      <th>9</th>\n",
       "      <td>Honda-san x Taka no Tsume</td>\n",
       "      <td>0.3504</td>\n",
       "      <td>Comedy, Parody</td>\n",
       "      <td>collaboration between the Eagle Talon franchis...</td>\n",
       "    </tr>\n",
       "    <tr>\n",
       "      <th>8</th>\n",
       "      <td>Sarusuberi: Miss Hokusai</td>\n",
       "      <td>0.3157</td>\n",
       "      <td>Historical, Supernatural, Drama, Seinen</td>\n",
       "      <td>The time: 1814. The place: Edo, now known as T...</td>\n",
       "    </tr>\n",
       "    <tr>\n",
       "      <th>7</th>\n",
       "      <td>Sam to Chip no wa Hachamecha Dai Race</td>\n",
       "      <td>0.2936</td>\n",
       "      <td>Cars, Kids</td>\n",
       "      <td>The Hari Hari Island Adventure Rally is just a...</td>\n",
       "    </tr>\n",
       "    <tr>\n",
       "      <th>6</th>\n",
       "      <td>Maburaho</td>\n",
       "      <td>0.2887</td>\n",
       "      <td>Comedy, Drama, Ecchi, Harem, Magic, Romance, S...</td>\n",
       "      <td>In the world of Maburaho , everyone is born wi...</td>\n",
       "    </tr>\n",
       "    <tr>\n",
       "      <th>5</th>\n",
       "      <td>Harbor Tale:a red brick</td>\n",
       "      <td>0.2887</td>\n",
       "      <td>Adventure, Fantasy</td>\n",
       "      <td>In this mixed media stop motion / CG animation...</td>\n",
       "    </tr>\n",
       "    <tr>\n",
       "      <th>4</th>\n",
       "      <td>Tantei Opera Milky Holmes: Summer Special</td>\n",
       "      <td>0.2844</td>\n",
       "      <td>Comedy, Mystery, Super Power</td>\n",
       "      <td>special program of Tantei Opera Milky Holmes p...</td>\n",
       "    </tr>\n",
       "    <tr>\n",
       "      <th>3</th>\n",
       "      <td>All Purpose Cultural Cat Girl Nuku Nuku Dash!</td>\n",
       "      <td>0.2756</td>\n",
       "      <td>Action, Comedy, Ecchi, Romance, Sci-Fi</td>\n",
       "      <td>It's in the not too distant future. One day Nu...</td>\n",
       "    </tr>\n",
       "    <tr>\n",
       "      <th>2</th>\n",
       "      <td>Super Seisyun Brothers</td>\n",
       "      <td>0.2733</td>\n",
       "      <td>Comedy, Josei, Slice of Life</td>\n",
       "      <td>The story involves two pairs of teenage elder ...</td>\n",
       "    </tr>\n",
       "    <tr>\n",
       "      <th>1</th>\n",
       "      <td>Rockman.EXE Beast</td>\n",
       "      <td>0.2730</td>\n",
       "      <td>Action, Adventure, Game, Mecha, Sci-Fi, Shounen</td>\n",
       "      <td>Trill, a mysterious navi said to have originat...</td>\n",
       "    </tr>\n",
       "    <tr>\n",
       "      <th>0</th>\n",
       "      <td>Tennis no Ouji-sama: The Band of Princes Film ...</td>\n",
       "      <td>0.2729</td>\n",
       "      <td>Action, Music</td>\n",
       "      <td>usic video featuring most of Prince of Tennis ...</td>\n",
       "    </tr>\n",
       "  </tbody>\n",
       "</table>\n",
       "</div>"
      ],
      "text/plain": [
       "                                                name  similarity  \\\n",
       "9                          Honda-san x Taka no Tsume      0.3504   \n",
       "8                           Sarusuberi: Miss Hokusai      0.3157   \n",
       "7              Sam to Chip no wa Hachamecha Dai Race      0.2936   \n",
       "6                                           Maburaho      0.2887   \n",
       "5                            Harbor Tale:a red brick      0.2887   \n",
       "4          Tantei Opera Milky Holmes: Summer Special      0.2844   \n",
       "3      All Purpose Cultural Cat Girl Nuku Nuku Dash!      0.2756   \n",
       "2                             Super Seisyun Brothers      0.2733   \n",
       "1                                  Rockman.EXE Beast      0.2730   \n",
       "0  Tennis no Ouji-sama: The Band of Princes Film ...      0.2729   \n",
       "\n",
       "                                               genre  \\\n",
       "9                                     Comedy, Parody   \n",
       "8            Historical, Supernatural, Drama, Seinen   \n",
       "7                                         Cars, Kids   \n",
       "6  Comedy, Drama, Ecchi, Harem, Magic, Romance, S...   \n",
       "5                                 Adventure, Fantasy   \n",
       "4                       Comedy, Mystery, Super Power   \n",
       "3             Action, Comedy, Ecchi, Romance, Sci-Fi   \n",
       "2                       Comedy, Josei, Slice of Life   \n",
       "1    Action, Adventure, Game, Mecha, Sci-Fi, Shounen   \n",
       "0                                      Action, Music   \n",
       "\n",
       "                                            synopsis  \n",
       "9  collaboration between the Eagle Talon franchis...  \n",
       "8  The time: 1814. The place: Edo, now known as T...  \n",
       "7  The Hari Hari Island Adventure Rally is just a...  \n",
       "6  In the world of Maburaho , everyone is born wi...  \n",
       "5  In this mixed media stop motion / CG animation...  \n",
       "4  special program of Tantei Opera Milky Holmes p...  \n",
       "3  It's in the not too distant future. One day Nu...  \n",
       "2  The story involves two pairs of teenage elder ...  \n",
       "1  Trill, a mysterious navi said to have originat...  \n",
       "0  usic video featuring most of Prince of Tennis ...  "
      ]
     },
     "execution_count": 60,
     "metadata": {},
     "output_type": "execute_result"
    }
   ],
   "source": [
    "\n",
    "find_similar_animes(\n",
    "    'One Piece',\n",
    "    anime_weights,\n",
    "    anime2anime_encoded,\n",
    "    anime2anime_decoded,\n",
    "    data_anime,\n",
    "    data_synopsis\n",
    ")"
   ]
  },
  {
   "cell_type": "markdown",
   "id": "62d2b7b2",
   "metadata": {},
   "source": [
    "#### User Based Recommendation System"
   ]
  },
  {
   "cell_type": "code",
   "execution_count": null,
   "id": "e5528966",
   "metadata": {},
   "outputs": [],
   "source": [
    "def find_similar_users(user_id_input, user_weights, user2user_encoded, user2user_decoded, n = 10, return_dist = False, neg = False):\n",
    "    try:\n",
    "        index = user_id_input\n",
    "        encoded_index = user2user_encoded.get(index)\n",
    "\n",
    "        if encoded_index is None:\n",
    "            raise ValueError(f\"Encoded index not found for anime ID: {index}\")\n",
    "        \n",
    "        weights = user_weights\n",
    "\n",
    "        distances = np.dot(weights, weights[encoded_index]) \n",
    "        sorted_distances = np.argsort(distances)\n",
    "\n",
    "        n = n + 1\n",
    "\n",
    "        if neg == True:\n",
    "            closest = sorted_distances[:n]\n",
    "        else:\n",
    "            closest = sorted_distances[-n:]\n",
    "\n",
    "        if return_dist:\n",
    "            return distances, closest\n",
    "        \n",
    "        Similarity_Array = []\n",
    "\n",
    "        for close in closest:\n",
    "            similarity = distances[close]\n",
    "\n",
    "            if isinstance(user_id_input, int):\n",
    "                decoded_id = user2user_decoded.get(close)\n",
    "\n",
    "                Similarity_Array.append({\n",
    "                    \"similar_users\": decoded_id,\n",
    "                    \"similarity\": similarity\n",
    "                })\n",
    "        \n",
    "        similar_users = pd.DataFrame(Similarity_Array).sort_values(by = \"similarity\", ascending = False)\n",
    "        similar_users[similar_users.similar_users != user_id_input]\n",
    "        return similar_users\n",
    "\n",
    "    except Exception as e:\n",
    "        print(f\"An error occurred: {e}\")\n",
    "        return pd.DataFrame()  # Return an empty DataFrame in case of error"
   ]
  },
  {
   "cell_type": "code",
   "execution_count": 64,
   "id": "5a9b7971",
   "metadata": {},
   "outputs": [
    {
     "data": {
      "text/html": [
       "<div>\n",
       "<style scoped>\n",
       "    .dataframe tbody tr th:only-of-type {\n",
       "        vertical-align: middle;\n",
       "    }\n",
       "\n",
       "    .dataframe tbody tr th {\n",
       "        vertical-align: top;\n",
       "    }\n",
       "\n",
       "    .dataframe thead th {\n",
       "        text-align: right;\n",
       "    }\n",
       "</style>\n",
       "<table border=\"1\" class=\"dataframe\">\n",
       "  <thead>\n",
       "    <tr style=\"text-align: right;\">\n",
       "      <th></th>\n",
       "      <th>similar_users</th>\n",
       "      <th>similarity</th>\n",
       "    </tr>\n",
       "  </thead>\n",
       "  <tbody>\n",
       "    <tr>\n",
       "      <th>5</th>\n",
       "      <td>11880</td>\n",
       "      <td>1.0000</td>\n",
       "    </tr>\n",
       "    <tr>\n",
       "      <th>4</th>\n",
       "      <td>5801</td>\n",
       "      <td>0.2883</td>\n",
       "    </tr>\n",
       "    <tr>\n",
       "      <th>3</th>\n",
       "      <td>7508</td>\n",
       "      <td>0.2817</td>\n",
       "    </tr>\n",
       "    <tr>\n",
       "      <th>2</th>\n",
       "      <td>16068</td>\n",
       "      <td>0.2762</td>\n",
       "    </tr>\n",
       "    <tr>\n",
       "      <th>1</th>\n",
       "      <td>10133</td>\n",
       "      <td>0.2664</td>\n",
       "    </tr>\n",
       "    <tr>\n",
       "      <th>0</th>\n",
       "      <td>6568</td>\n",
       "      <td>0.2626</td>\n",
       "    </tr>\n",
       "  </tbody>\n",
       "</table>\n",
       "</div>"
      ],
      "text/plain": [
       "   similar_users  similarity\n",
       "5          11880      1.0000\n",
       "4           5801      0.2883\n",
       "3           7508      0.2817\n",
       "2          16068      0.2762\n",
       "1          10133      0.2664\n",
       "0           6568      0.2626"
      ]
     },
     "execution_count": 64,
     "metadata": {},
     "output_type": "execute_result"
    }
   ],
   "source": [
    "find_similar_users(int(11880), user_weights, user2user_encoded, user2user_decoded, n = 5)"
   ]
  },
  {
   "cell_type": "code",
   "execution_count": 70,
   "metadata": {},
   "outputs": [],
   "source": [
    "def showWordCloud(genres):\n",
    "    genres_cloud = WordCloud(width = 700, height = 400, background_color = \"white\", colormap = \"gnuplot\").generate_from_frequencies(genres)\n",
    "    plt.figure(figsize = (10, 8))\n",
    "    plt.imshow(genres_cloud, interpolation = \"bilinear\")\n",
    "    plt.axis(\"off\")\n",
    "    plt.show()"
   ]
  },
  {
   "cell_type": "code",
   "execution_count": null,
   "id": "5a706d32",
   "metadata": {},
   "outputs": [],
   "source": [
    "from collections import defaultdict\n",
    "\n",
    "def getFavGenre(frame, plot = False):\n",
    "\n",
    "    frame.dropna(inplace = False)\n",
    "    all_genres = defaultdict(int)\n",
    "\n",
    "    genres_list = []\n",
    "    for genres in frame[\"Genres\"]:\n",
    "        if isinstance(genres,str):\n",
    "            for genre in genres.split(','):\n",
    "                genres_list.append(genre)\n",
    "                all_genres[genre.strip()] += 1\n",
    "    if plot:\n",
    "        showWordCloud(all_genres)\n",
    "    \n",
    "    return genres_list"
   ]
  },
  {
   "cell_type": "code",
   "execution_count": 67,
   "id": "1899123f",
   "metadata": {},
   "outputs": [
    {
     "data": {
      "text/html": [
       "<div>\n",
       "<style scoped>\n",
       "    .dataframe tbody tr th:only-of-type {\n",
       "        vertical-align: middle;\n",
       "    }\n",
       "\n",
       "    .dataframe tbody tr th {\n",
       "        vertical-align: top;\n",
       "    }\n",
       "\n",
       "    .dataframe thead th {\n",
       "        text-align: right;\n",
       "    }\n",
       "</style>\n",
       "<table border=\"1\" class=\"dataframe\">\n",
       "  <thead>\n",
       "    <tr style=\"text-align: right;\">\n",
       "      <th></th>\n",
       "      <th>anime_id</th>\n",
       "      <th>eng_version</th>\n",
       "      <th>Score</th>\n",
       "      <th>Genres</th>\n",
       "      <th>Episodes</th>\n",
       "      <th>Type</th>\n",
       "      <th>Premiered</th>\n",
       "      <th>Members</th>\n",
       "    </tr>\n",
       "  </thead>\n",
       "  <tbody>\n",
       "    <tr>\n",
       "      <th>7449</th>\n",
       "      <td>16498</td>\n",
       "      <td>Attack on Titan</td>\n",
       "      <td>8.48</td>\n",
       "      <td>Action, Military, Mystery, Super Power, Drama,...</td>\n",
       "      <td>25</td>\n",
       "      <td>TV</td>\n",
       "      <td>Spring 2013</td>\n",
       "      <td>2531397</td>\n",
       "    </tr>\n",
       "  </tbody>\n",
       "</table>\n",
       "</div>"
      ],
      "text/plain": [
       "      anime_id      eng_version Score  \\\n",
       "7449     16498  Attack on Titan  8.48   \n",
       "\n",
       "                                                 Genres Episodes Type  \\\n",
       "7449  Action, Military, Mystery, Super Power, Drama,...       25   TV   \n",
       "\n",
       "        Premiered  Members  \n",
       "7449  Spring 2013  2531397  "
      ]
     },
     "execution_count": 67,
     "metadata": {},
     "output_type": "execute_result"
    }
   ],
   "source": [
    "x = getAnimeFrame('Attack on Titan', data_anime)\n",
    "x"
   ]
  },
  {
   "cell_type": "code",
   "execution_count": 71,
   "id": "e3d99e0d",
   "metadata": {},
   "outputs": [
    {
     "data": {
      "image/png": "[encoded data removed]",
      "text/plain": [
       "<Figure size 1000x800 with 1 Axes>"
      ]
     },
     "metadata": {},
     "output_type": "display_data"
    },
    {
     "data": {
      "text/plain": [
       "['Action',\n",
       " ' Military',\n",
       " ' Mystery',\n",
       " ' Super Power',\n",
       " ' Drama',\n",
       " ' Fantasy',\n",
       " ' Shounen']"
      ]
     },
     "execution_count": 71,
     "metadata": {},
     "output_type": "execute_result"
    }
   ],
   "source": [
    "getFavGenre(x, plot = True)"
   ]
  },
  {
   "cell_type": "code",
   "execution_count": null,
   "id": "aa4dc9e9",
   "metadata": {},
   "outputs": [
    {
     "data": {
      "text/html": [
       "<div>\n",
       "<style scoped>\n",
       "    .dataframe tbody tr th:only-of-type {\n",
       "        vertical-align: middle;\n",
       "    }\n",
       "\n",
       "    .dataframe tbody tr th {\n",
       "        vertical-align: top;\n",
       "    }\n",
       "\n",
       "    .dataframe thead th {\n",
       "        text-align: right;\n",
       "    }\n",
       "</style>\n",
       "<table border=\"1\" class=\"dataframe\">\n",
       "  <thead>\n",
       "    <tr style=\"text-align: right;\">\n",
       "      <th></th>\n",
       "      <th>eng_version</th>\n",
       "      <th>Genres</th>\n",
       "    </tr>\n",
       "  </thead>\n",
       "  <tbody>\n",
       "    <tr>\n",
       "      <th>3971</th>\n",
       "      <td>Fullmetal Alchemist:Brotherhood</td>\n",
       "      <td>Action, Military, Adventure, Comedy, Drama, Ma...</td>\n",
       "    </tr>\n",
       "    <tr>\n",
       "      <th>9913</th>\n",
       "      <td>Gintama Season 4</td>\n",
       "      <td>Action, Comedy, Historical, Parody, Samurai, S...</td>\n",
       "    </tr>\n",
       "    <tr>\n",
       "      <th>6474</th>\n",
       "      <td>Hunter x Hunter</td>\n",
       "      <td>Action, Adventure, Fantasy, Shounen, Super Power</td>\n",
       "    </tr>\n",
       "    <tr>\n",
       "      <th>6006</th>\n",
       "      <td>Gintama Season 2</td>\n",
       "      <td>Action, Sci-Fi, Comedy, Historical, Parody, Sa...</td>\n",
       "    </tr>\n",
       "    <tr>\n",
       "      <th>741</th>\n",
       "      <td>Legend of the Galactic Heroes</td>\n",
       "      <td>Military, Sci-Fi, Space, Drama</td>\n",
       "    </tr>\n",
       "    <tr>\n",
       "      <th>...</th>\n",
       "      <td>...</td>\n",
       "      <td>...</td>\n",
       "    </tr>\n",
       "    <tr>\n",
       "      <th>2575</th>\n",
       "      <td>Shootfighter Tekken</td>\n",
       "      <td>Action, Martial Arts, Shounen</td>\n",
       "    </tr>\n",
       "    <tr>\n",
       "      <th>8064</th>\n",
       "      <td>Samurai Flamenco</td>\n",
       "      <td>Action, Comedy, Parody, Super Power</td>\n",
       "    </tr>\n",
       "    <tr>\n",
       "      <th>510</th>\n",
       "      <td>Venus Wars</td>\n",
       "      <td>Action, Sci-Fi, Adventure, Space</td>\n",
       "    </tr>\n",
       "    <tr>\n",
       "      <th>6864</th>\n",
       "      <td>Saint Seiya Omega</td>\n",
       "      <td>Action, Adventure, Fantasy, Shounen</td>\n",
       "    </tr>\n",
       "    <tr>\n",
       "      <th>9796</th>\n",
       "      <td>Garo:Crimson Moon</td>\n",
       "      <td>Action, Demons, Fantasy, Magic, Supernatural</td>\n",
       "    </tr>\n",
       "  </tbody>\n",
       "</table>\n",
       "<p>190 rows × 2 columns</p>\n",
       "</div>"
      ],
      "text/plain": [
       "                          eng_version  \\\n",
       "3971  Fullmetal Alchemist:Brotherhood   \n",
       "9913                 Gintama Season 4   \n",
       "6474                  Hunter x Hunter   \n",
       "6006                 Gintama Season 2   \n",
       "741     Legend of the Galactic Heroes   \n",
       "...                               ...   \n",
       "2575              Shootfighter Tekken   \n",
       "8064                 Samurai Flamenco   \n",
       "510                        Venus Wars   \n",
       "6864                Saint Seiya Omega   \n",
       "9796                Garo:Crimson Moon   \n",
       "\n",
       "                                                 Genres  \n",
       "3971  Action, Military, Adventure, Comedy, Drama, Ma...  \n",
       "9913  Action, Comedy, Historical, Parody, Samurai, S...  \n",
       "6474   Action, Adventure, Fantasy, Shounen, Super Power  \n",
       "6006  Action, Sci-Fi, Comedy, Historical, Parody, Sa...  \n",
       "741                      Military, Sci-Fi, Space, Drama  \n",
       "...                                                 ...  \n",
       "2575                      Action, Martial Arts, Shounen  \n",
       "8064                Action, Comedy, Parody, Super Power  \n",
       "510                    Action, Sci-Fi, Adventure, Space  \n",
       "6864                Action, Adventure, Fantasy, Shounen  \n",
       "9796       Action, Demons, Fantasy, Magic, Supernatural  \n",
       "\n",
       "[190 rows x 2 columns]"
      ]
     },
     "execution_count": 74,
     "metadata": {},
     "output_type": "execute_result"
    }
   ],
   "source": [
    "def get_user_preferences(user_id, rating_data, data, plot = False):\n",
    "    \n",
    "    animes_watched_by_user = rating_data[rating_data.user_id == user_id]\n",
    "\n",
    "    user_rating_percentile = np.percentile(animes_watched_by_user.rating, 75)\n",
    "\n",
    "    animes_watched_by_user = animes_watched_by_user[animes_watched_by_user.rating >= user_rating_percentile]\n",
    "\n",
    "    top_animes_user = (\n",
    "        animes_watched_by_user.sort_values(by = \"rating\" , ascending = False).anime_id.values\n",
    "    )\n",
    "\n",
    "    anime_df_rows = data[data[\"anime_id\"].isin(top_animes_user)]\n",
    "    anime_df_rows = anime_df_rows[[\"eng_version\",\"Genres\"]]\n",
    "\n",
    "    if plot:\n",
    "        getFavGenre(anime_df_rows,plot)\n",
    "\n",
    "    return anime_df_rows\n",
    "get_user_preferences(11880, df_rating, data_anime, plot = False)"
   ]
  },
  {
   "cell_type": "code",
   "execution_count": 75,
   "id": "d832dc43",
   "metadata": {},
   "outputs": [
    {
     "data": {
      "image/png": "[encoded data removed]",
      "text/plain": [
       "<Figure size 1000x800 with 1 Axes>"
      ]
     },
     "metadata": {},
     "output_type": "display_data"
    },
    {
     "data": {
      "text/html": [
       "<div>\n",
       "<style scoped>\n",
       "    .dataframe tbody tr th:only-of-type {\n",
       "        vertical-align: middle;\n",
       "    }\n",
       "\n",
       "    .dataframe tbody tr th {\n",
       "        vertical-align: top;\n",
       "    }\n",
       "\n",
       "    .dataframe thead th {\n",
       "        text-align: right;\n",
       "    }\n",
       "</style>\n",
       "<table border=\"1\" class=\"dataframe\">\n",
       "  <thead>\n",
       "    <tr style=\"text-align: right;\">\n",
       "      <th></th>\n",
       "      <th>eng_version</th>\n",
       "      <th>Genres</th>\n",
       "    </tr>\n",
       "  </thead>\n",
       "  <tbody>\n",
       "    <tr>\n",
       "      <th>3971</th>\n",
       "      <td>Fullmetal Alchemist:Brotherhood</td>\n",
       "      <td>Action, Military, Adventure, Comedy, Drama, Ma...</td>\n",
       "    </tr>\n",
       "    <tr>\n",
       "      <th>9913</th>\n",
       "      <td>Gintama Season 4</td>\n",
       "      <td>Action, Comedy, Historical, Parody, Samurai, S...</td>\n",
       "    </tr>\n",
       "    <tr>\n",
       "      <th>6474</th>\n",
       "      <td>Hunter x Hunter</td>\n",
       "      <td>Action, Adventure, Fantasy, Shounen, Super Power</td>\n",
       "    </tr>\n",
       "    <tr>\n",
       "      <th>6006</th>\n",
       "      <td>Gintama Season 2</td>\n",
       "      <td>Action, Sci-Fi, Comedy, Historical, Parody, Sa...</td>\n",
       "    </tr>\n",
       "    <tr>\n",
       "      <th>741</th>\n",
       "      <td>Legend of the Galactic Heroes</td>\n",
       "      <td>Military, Sci-Fi, Space, Drama</td>\n",
       "    </tr>\n",
       "    <tr>\n",
       "      <th>...</th>\n",
       "      <td>...</td>\n",
       "      <td>...</td>\n",
       "    </tr>\n",
       "    <tr>\n",
       "      <th>2575</th>\n",
       "      <td>Shootfighter Tekken</td>\n",
       "      <td>Action, Martial Arts, Shounen</td>\n",
       "    </tr>\n",
       "    <tr>\n",
       "      <th>8064</th>\n",
       "      <td>Samurai Flamenco</td>\n",
       "      <td>Action, Comedy, Parody, Super Power</td>\n",
       "    </tr>\n",
       "    <tr>\n",
       "      <th>510</th>\n",
       "      <td>Venus Wars</td>\n",
       "      <td>Action, Sci-Fi, Adventure, Space</td>\n",
       "    </tr>\n",
       "    <tr>\n",
       "      <th>6864</th>\n",
       "      <td>Saint Seiya Omega</td>\n",
       "      <td>Action, Adventure, Fantasy, Shounen</td>\n",
       "    </tr>\n",
       "    <tr>\n",
       "      <th>9796</th>\n",
       "      <td>Garo:Crimson Moon</td>\n",
       "      <td>Action, Demons, Fantasy, Magic, Supernatural</td>\n",
       "    </tr>\n",
       "  </tbody>\n",
       "</table>\n",
       "<p>190 rows × 2 columns</p>\n",
       "</div>"
      ],
      "text/plain": [
       "                          eng_version  \\\n",
       "3971  Fullmetal Alchemist:Brotherhood   \n",
       "9913                 Gintama Season 4   \n",
       "6474                  Hunter x Hunter   \n",
       "6006                 Gintama Season 2   \n",
       "741     Legend of the Galactic Heroes   \n",
       "...                               ...   \n",
       "2575              Shootfighter Tekken   \n",
       "8064                 Samurai Flamenco   \n",
       "510                        Venus Wars   \n",
       "6864                Saint Seiya Omega   \n",
       "9796                Garo:Crimson Moon   \n",
       "\n",
       "                                                 Genres  \n",
       "3971  Action, Military, Adventure, Comedy, Drama, Ma...  \n",
       "9913  Action, Comedy, Historical, Parody, Samurai, S...  \n",
       "6474   Action, Adventure, Fantasy, Shounen, Super Power  \n",
       "6006  Action, Sci-Fi, Comedy, Historical, Parody, Sa...  \n",
       "741                      Military, Sci-Fi, Space, Drama  \n",
       "...                                                 ...  \n",
       "2575                      Action, Martial Arts, Shounen  \n",
       "8064                Action, Comedy, Parody, Super Power  \n",
       "510                    Action, Sci-Fi, Adventure, Space  \n",
       "6864                Action, Adventure, Fantasy, Shounen  \n",
       "9796       Action, Demons, Fantasy, Magic, Supernatural  \n",
       "\n",
       "[190 rows x 2 columns]"
      ]
     },
     "execution_count": 75,
     "metadata": {},
     "output_type": "execute_result"
    }
   ],
   "source": [
    "get_user_preferences(11880, df_rating, data_anime, plot = True)"
   ]
  },
  {
   "cell_type": "code",
   "execution_count": null,
   "id": "9b78c499",
   "metadata": {},
   "outputs": [],
   "source": [
    "def get_user_recommendations(similar_users, user_pref, data, data_synopsis, df_rating, n = 10):\n",
    "    \n",
    "    recommended_animes = []\n",
    "    anime_list = []\n",
    "\n",
    "    for user_id in similar_users.similar_users.values:\n",
    "        pref_list = get_user_preferences(int(user_id), df_rating, data)\n",
    "\n",
    "        pref_list = pref_list[~pref_list.eng_version.isin(user_pref.eng_version.values)]\n",
    "        \n",
    "        if not pref_list.empty:\n",
    "            anime_list.append(pref_list.eng_version.values)\n",
    "\n",
    "    if anime_list:\n",
    "            anime_list = pd.DataFrame(anime_list)\n",
    "\n",
    "            sorted_list = pd.DataFrame(pd.Series(anime_list.values.ravel()).value_counts()).head(n)\n",
    "\n",
    "            for i, anime_name in enumerate(sorted_list.index):\n",
    "                n_user_pref = sorted_list[sorted_list.index == anime_name].values[0][0]\n",
    "\n",
    "                if isinstance(anime_name, str):\n",
    "                    frame = getAnimeFrame(anime_name, data)\n",
    "                    anime_id = frame.anime_id.values[0]\n",
    "                    genre = frame.Genres.values[0]\n",
    "                    synopsis = getSynopsis(int(anime_id), data_synopsis)\n",
    "\n",
    "                    recommended_animes.append({\n",
    "                        \"users\": n_user_pref,\n",
    "                        \"anime_name\": anime_name,\n",
    "                        \"genres\": genre,\n",
    "                        \"synopsis\": synopsis\n",
    "                    })\n",
    "    \n",
    "    return pd.DataFrame(recommended_animes).head(n)"
   ]
  },
  {
   "cell_type": "code",
   "execution_count": null,
   "id": "5a74604c",
   "metadata": {},
   "outputs": [],
   "source": [
    "similar_users = find_similar_users(int(11880), user_weights, user2user_encoded, user2user_decoded)\n",
    "user_pref = get_user_preferences(11880, df_rating, data_anime, plot = False)"
   ]
  },
  {
   "cell_type": "code",
   "execution_count": 79,
   "id": "c6756317",
   "metadata": {},
   "outputs": [
    {
     "data": {
      "text/html": [
       "<div>\n",
       "<style scoped>\n",
       "    .dataframe tbody tr th:only-of-type {\n",
       "        vertical-align: middle;\n",
       "    }\n",
       "\n",
       "    .dataframe tbody tr th {\n",
       "        vertical-align: top;\n",
       "    }\n",
       "\n",
       "    .dataframe thead th {\n",
       "        text-align: right;\n",
       "    }\n",
       "</style>\n",
       "<table border=\"1\" class=\"dataframe\">\n",
       "  <thead>\n",
       "    <tr style=\"text-align: right;\">\n",
       "      <th></th>\n",
       "      <th>users</th>\n",
       "      <th>anime_name</th>\n",
       "      <th>genres</th>\n",
       "      <th>synopsis</th>\n",
       "    </tr>\n",
       "  </thead>\n",
       "  <tbody>\n",
       "    <tr>\n",
       "      <th>0</th>\n",
       "      <td>9</td>\n",
       "      <td>Death Note</td>\n",
       "      <td>Mystery, Police, Psychological, Supernatural, ...</td>\n",
       "      <td>shinigami, as a god of death, can kill any per...</td>\n",
       "    </tr>\n",
       "    <tr>\n",
       "      <th>1</th>\n",
       "      <td>8</td>\n",
       "      <td>Attack on Titan</td>\n",
       "      <td>Action, Military, Mystery, Super Power, Drama,...</td>\n",
       "      <td>Centuries ago, mankind was slaughtered to near...</td>\n",
       "    </tr>\n",
       "    <tr>\n",
       "      <th>2</th>\n",
       "      <td>7</td>\n",
       "      <td>Naruto</td>\n",
       "      <td>Action, Adventure, Comedy, Super Power, Martia...</td>\n",
       "      <td>oments prior to Naruto Uzumaki's birth, a huge...</td>\n",
       "    </tr>\n",
       "    <tr>\n",
       "      <th>3</th>\n",
       "      <td>7</td>\n",
       "      <td>Berserk</td>\n",
       "      <td>Action, Adventure, Demons, Drama, Fantasy, Hor...</td>\n",
       "      <td>Born from the corpse of his mother, a young me...</td>\n",
       "    </tr>\n",
       "  </tbody>\n",
       "</table>\n",
       "</div>"
      ],
      "text/plain": [
       "   users       anime_name                                             genres  \\\n",
       "0      9       Death Note  Mystery, Police, Psychological, Supernatural, ...   \n",
       "1      8  Attack on Titan  Action, Military, Mystery, Super Power, Drama,...   \n",
       "2      7           Naruto  Action, Adventure, Comedy, Super Power, Martia...   \n",
       "3      7          Berserk  Action, Adventure, Demons, Drama, Fantasy, Hor...   \n",
       "\n",
       "                                            synopsis  \n",
       "0  shinigami, as a god of death, can kill any per...  \n",
       "1  Centuries ago, mankind was slaughtered to near...  \n",
       "2  oments prior to Naruto Uzumaki's birth, a huge...  \n",
       "3  Born from the corpse of his mother, a young me...  "
      ]
     },
     "execution_count": 79,
     "metadata": {},
     "output_type": "execute_result"
    }
   ],
   "source": [
    "get_user_recommendations(similar_users, user_pref, data_anime, data_synopsis, df_rating, n = 4)"
   ]
  },
  {
   "cell_type": "markdown",
   "id": "cc21e7ce",
   "metadata": {},
   "source": [
    "#### Hybrid Recommendation System"
   ]
  },
  {
   "cell_type": "code",
   "execution_count": null,
   "id": "4b7c6e15",
   "metadata": {},
   "outputs": [
    {
     "name": "stdout",
     "output_type": "stream",
     "text": [
      "['Death Note', 'Attack on Titan', 'Naruto', 'Berserk', 'Re:ZERO -Starting Life in Another World-', 'Nisekoi:False Love', 'No Game, No Life', 'Darker than Black', \"KonoSuba:God's Blessing on This Wonderful World! 2\", 'Spirited Away']\n",
      "An error occurred: index 0 is out of bounds for axis 0 with size 0\n",
      "No similar anime found Attack on Titan\n",
      "An error occurred: index 0 is out of bounds for axis 0 with size 0\n",
      "No similar anime found Berserk\n",
      "An error occurred: index 0 is out of bounds for axis 0 with size 0\n",
      "No similar anime found Darker than Black\n",
      "An error occurred: index 0 is out of bounds for axis 0 with size 0\n",
      "No similar anime found KonoSuba:God's Blessing on This Wonderful World! 2\n",
      "An error occurred: index 0 is out of bounds for axis 0 with size 0\n",
      "No similar anime found Spirited Away\n"
     ]
    },
    {
     "data": {
      "text/plain": [
       "['New Tokyo Ondo',\n",
       " 'Death Note',\n",
       " 'Attack on Titan',\n",
       " 'Naruto',\n",
       " 'Berserk',\n",
       " 'Re:ZERO -Starting Life in Another World-',\n",
       " 'Nisekoi:False Love',\n",
       " 'No Game, No Life',\n",
       " 'Darker than Black',\n",
       " \"KonoSuba:God's Blessing on This Wonderful World! 2\"]"
      ]
     },
     "execution_count": 81,
     "metadata": {},
     "output_type": "execute_result"
    }
   ],
   "source": [
    "def hybrid_recommendation(user_id, user_weight=0.5, content_weight = 0.5):\n",
    "\n",
    "    similar_users =find_similar_users(user_id, user_weights, user2user_encoded, user2user_decoded)\n",
    "    user_pref = get_user_preferences(user_id, df_rating, data_anime)\n",
    "    user_recommended_animes = get_user_recommendations(similar_users, user_pref, data_anime, data_synopsis, df_rating)\n",
    "    user_recommended_anime_list = user_recommended_animes[\"anime_name\"].tolist()\n",
    "    print(user_recommended_anime_list)\n",
    "\n",
    "\n",
    "    content_recommended_animes = []\n",
    "\n",
    "    for anime in user_recommended_anime_list:\n",
    "        similar_animes = find_similar_animes(anime, anime_weights, anime2anime_encoded, anime2anime_decoded, data_anime, data_synopsis)\n",
    "        if similar_animes is not None and not similar_animes.empty:\n",
    "            content_recommended_animes.extend(similar_animes[\"name\"].tolist())\n",
    "        else:\n",
    "            print(f\"No similar anime found {anime}\")\n",
    "    \n",
    "\n",
    "    combined_scores = {}\n",
    "    for anime in user_recommended_anime_list:\n",
    "        combined_scores[anime] = combined_scores.get(anime, 0) + user_weight\n",
    "\n",
    "    for anime in content_recommended_animes:\n",
    "        combined_scores[anime] = combined_scores.get(anime, 0) + content_weight  \n",
    "\n",
    "    sorted_animes = sorted(combined_scores.items() , key = lambda x:x[1] , reverse=True)\n",
    "\n",
    "    return [anime for anime , score in sorted_animes[:10]] \n",
    "hybrid_recommendation(11880)"
   ]
  }
 ],
 "metadata": {
  "kernelspec": {
   "display_name": "venv",
   "language": "python",
   "name": "python3"
  },
  "language_info": {
   "codemirror_mode": {
    "name": "ipython",
    "version": 3
   },
   "file_extension": ".py",
   "mimetype": "text/x-python",
   "name": "python",
   "nbconvert_exporter": "python",
   "pygments_lexer": "ipython3",
   "version": "3.11.7"
  }
 },
 "nbformat": 4,
 "nbformat_minor": 5
}
